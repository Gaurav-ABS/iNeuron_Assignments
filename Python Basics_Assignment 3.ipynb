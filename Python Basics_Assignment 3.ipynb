{
 "cells": [
  {
   "cell_type": "markdown",
   "id": "0e06afe9",
   "metadata": {},
   "source": [
    "# Python Basics_Assignment 3\n",
    "\n",
    "---"
   ]
  },
  {
   "cell_type": "markdown",
   "id": "0cc8a218",
   "metadata": {},
   "source": [
    "> #### 1. Why are functions advantageous to have in your programs?"
   ]
  },
  {
   "cell_type": "markdown",
   "id": "106dbcff",
   "metadata": {},
   "source": [
    "Functions are pieces of code which implement certain useful and frequently needed operations. Having 'Built In' functions or 'Custom functions' help us to re-use the code whenever required without having to write it again.\n",
    "\n",
    "It saves time and resources."
   ]
  },
  {
   "cell_type": "markdown",
   "id": "442c8dfa",
   "metadata": {},
   "source": [
    "> #### 2. When does the code in a function run: when it's specified or when it's called?"
   ]
  },
  {
   "cell_type": "markdown",
   "id": "de8b1f75",
   "metadata": {},
   "source": [
    "Code in a function runs when it is called."
   ]
  },
  {
   "cell_type": "markdown",
   "id": "02817337",
   "metadata": {},
   "source": [
    "> #### 3. What statement creates a function?"
   ]
  },
  {
   "cell_type": "markdown",
   "id": "a480bdd3",
   "metadata": {},
   "source": [
    "In python def function_name() creates a user defined function"
   ]
  },
  {
   "cell_type": "code",
   "execution_count": 3,
   "id": "7cc9e700",
   "metadata": {},
   "outputs": [
    {
     "data": {
      "text/plain": [
       "3"
      ]
     },
     "execution_count": 3,
     "metadata": {},
     "output_type": "execute_result"
    }
   ],
   "source": [
    "def addition(a,b):\n",
    "    return(a+b)\n",
    "\n",
    "addition(1,2)"
   ]
  },
  {
   "cell_type": "markdown",
   "id": "4338d814",
   "metadata": {},
   "source": [
    "> #### 4. What is the difference between a function and a function call?"
   ]
  },
  {
   "cell_type": "markdown",
   "id": "f8036d00",
   "metadata": {},
   "source": [
    "Function is the block of code which implements some logic or operations. In a program the block of code inside the function is not implemented \n",
    "unless called for.\n",
    "\n",
    "Function Call is the code in program which says that a particular function must be executed."
   ]
  },
  {
   "cell_type": "code",
   "execution_count": 4,
   "id": "7d2e3233",
   "metadata": {},
   "outputs": [
    {
     "data": {
      "text/plain": [
       "5"
      ]
     },
     "execution_count": 4,
     "metadata": {},
     "output_type": "execute_result"
    }
   ],
   "source": [
    "#followin is lines of code defining a function\n",
    "def addition(a,b):\n",
    "    return(a+b)\n",
    "\n",
    "\n",
    "# following line of code is the function call\n",
    "addition(1,2)\n",
    "\n",
    "\n",
    "# a function may be called as many times as needed\n",
    "addition(2,3)"
   ]
  },
  {
   "cell_type": "markdown",
   "id": "f069641f",
   "metadata": {},
   "source": [
    "> #### 5. How many global scopes are there in a Python program? How many local scopes?"
   ]
  },
  {
   "cell_type": "markdown",
   "id": "8f938e79",
   "metadata": {},
   "source": [
    "To understand the variable scopes we have the LEGB rule.\n",
    "\n",
    "Order followed by a Python interpreter is following:\n",
    "Local > Enclosing > Global > Built-in \n",
    "\n",
    "There is only one Global Scope variable. One which is defined outside any function and thus could be accessed by all functions.\n",
    "\n",
    "Local scope variable is the one defined inside a function and its scope is limited to the function block only.\n",
    "\n"
   ]
  },
  {
   "cell_type": "markdown",
   "id": "797c915e",
   "metadata": {},
   "source": [
    "> #### 6. What happens to variables in a local scope when the function call returns?"
   ]
  },
  {
   "cell_type": "markdown",
   "id": "eec64be6",
   "metadata": {},
   "source": [
    "When the function excution is completed the local variables are destroyed."
   ]
  },
  {
   "cell_type": "markdown",
   "id": "a72f449e",
   "metadata": {},
   "source": [
    "> #### 7. What is the concept of a return value? Is it possible to have a return value in an expression?"
   ]
  },
  {
   "cell_type": "markdown",
   "id": "59c67d13",
   "metadata": {},
   "source": [
    "Return value is the value provided by the function once its excution is completed.  <br>\n",
    "The return value keeps the object type of the return value as it is and thus we \n",
    "can use it in an expression as well."
   ]
  },
  {
   "cell_type": "code",
   "execution_count": 7,
   "id": "67090177",
   "metadata": {},
   "outputs": [
    {
     "data": {
      "text/plain": [
       "9"
      ]
     },
     "execution_count": 7,
     "metadata": {},
     "output_type": "execute_result"
    }
   ],
   "source": [
    "def addition(a,b):\n",
    "    return(a+b)\n",
    "\n",
    "3 + addition(1,2) + 3"
   ]
  },
  {
   "cell_type": "markdown",
   "id": "dce437b6",
   "metadata": {},
   "source": [
    "> #### 8. If a function does not have a return statement, what is the return value of a call to that function?"
   ]
  },
  {
   "cell_type": "markdown",
   "id": "10d1d930",
   "metadata": {},
   "source": [
    "If a function doesnt include a return statement then its return value will be 'None'\n",
    "\n"
   ]
  },
  {
   "cell_type": "code",
   "execution_count": 10,
   "id": "9cef02bb",
   "metadata": {},
   "outputs": [
    {
     "name": "stdout",
     "output_type": "stream",
     "text": [
      "sum is =  3\n"
     ]
    },
    {
     "data": {
      "text/plain": [
       "NoneType"
      ]
     },
     "execution_count": 10,
     "metadata": {},
     "output_type": "execute_result"
    }
   ],
   "source": [
    "def addition(a,b):\n",
    "    print(\"sum is = \" , a+b)\n",
    "\n",
    "type (addition (1,2))\n"
   ]
  },
  {
   "cell_type": "code",
   "execution_count": 11,
   "id": "8afe437f",
   "metadata": {},
   "outputs": [
    {
     "name": "stdout",
     "output_type": "stream",
     "text": [
      "sum is =  3\n"
     ]
    },
    {
     "data": {
      "text/plain": [
       "False"
      ]
     },
     "execution_count": 11,
     "metadata": {},
     "output_type": "execute_result"
    }
   ],
   "source": [
    "bool(addition (1,2))"
   ]
  },
  {
   "cell_type": "markdown",
   "id": "46c514db",
   "metadata": {},
   "source": [
    "> #### 9. How do you make a function variable refer to the global variable?"
   ]
  },
  {
   "cell_type": "code",
   "execution_count": 24,
   "id": "60058269",
   "metadata": {},
   "outputs": [
    {
     "name": "stdout",
     "output_type": "stream",
     "text": [
      "1\n"
     ]
    }
   ],
   "source": [
    "# we can access the global variable from inside a function\n",
    "\n",
    "c=1\n",
    "\n",
    "def demo():\n",
    "    print(c)\n",
    "\n",
    "demo()"
   ]
  },
  {
   "cell_type": "code",
   "execution_count": 25,
   "id": "0bbb9d12",
   "metadata": {},
   "outputs": [
    {
     "ename": "UnboundLocalError",
     "evalue": "local variable 'c' referenced before assignment",
     "output_type": "error",
     "traceback": [
      "\u001b[1;31m---------------------------------------------------------------------------\u001b[0m",
      "\u001b[1;31mUnboundLocalError\u001b[0m                         Traceback (most recent call last)",
      "\u001b[1;32m<ipython-input-25-624d5d4db313>\u001b[0m in \u001b[0;36m<module>\u001b[1;34m\u001b[0m\n\u001b[0;32m      7\u001b[0m     \u001b[0mprint\u001b[0m\u001b[1;33m(\u001b[0m\u001b[0mc\u001b[0m\u001b[1;33m)\u001b[0m\u001b[1;33m\u001b[0m\u001b[1;33m\u001b[0m\u001b[0m\n\u001b[0;32m      8\u001b[0m \u001b[1;33m\u001b[0m\u001b[0m\n\u001b[1;32m----> 9\u001b[1;33m \u001b[0mdemo2\u001b[0m\u001b[1;33m(\u001b[0m\u001b[1;33m)\u001b[0m\u001b[1;33m\u001b[0m\u001b[1;33m\u001b[0m\u001b[0m\n\u001b[0m\u001b[0;32m     10\u001b[0m \u001b[1;33m\u001b[0m\u001b[0m\n",
      "\u001b[1;32m<ipython-input-25-624d5d4db313>\u001b[0m in \u001b[0;36mdemo2\u001b[1;34m()\u001b[0m\n\u001b[0;32m      4\u001b[0m \u001b[1;33m\u001b[0m\u001b[0m\n\u001b[0;32m      5\u001b[0m \u001b[1;32mdef\u001b[0m \u001b[0mdemo2\u001b[0m\u001b[1;33m(\u001b[0m\u001b[1;33m)\u001b[0m\u001b[1;33m:\u001b[0m\u001b[1;33m\u001b[0m\u001b[1;33m\u001b[0m\u001b[0m\n\u001b[1;32m----> 6\u001b[1;33m     \u001b[0mc\u001b[0m\u001b[1;33m=\u001b[0m   \u001b[0mc\u001b[0m \u001b[1;33m+\u001b[0m \u001b[1;36m1\u001b[0m\u001b[1;33m\u001b[0m\u001b[1;33m\u001b[0m\u001b[0m\n\u001b[0m\u001b[0;32m      7\u001b[0m     \u001b[0mprint\u001b[0m\u001b[1;33m(\u001b[0m\u001b[0mc\u001b[0m\u001b[1;33m)\u001b[0m\u001b[1;33m\u001b[0m\u001b[1;33m\u001b[0m\u001b[0m\n\u001b[0;32m      8\u001b[0m \u001b[1;33m\u001b[0m\u001b[0m\n",
      "\u001b[1;31mUnboundLocalError\u001b[0m: local variable 'c' referenced before assignment"
     ]
    }
   ],
   "source": [
    "# we cannot modify a global variable from inside a function \n",
    "\n",
    "c=1\n",
    "\n",
    "def demo2():\n",
    "    c =   c + 1\n",
    "    print(c)\n",
    "    \n",
    "demo2()\n",
    "\n"
   ]
  },
  {
   "cell_type": "markdown",
   "id": "08a9a17d",
   "metadata": {},
   "source": [
    "Note that python is treating the variable c inside the function as local. Not as global"
   ]
  },
  {
   "cell_type": "code",
   "execution_count": 26,
   "id": "68893e03",
   "metadata": {},
   "outputs": [
    {
     "name": "stdout",
     "output_type": "stream",
     "text": [
      "2\n"
     ]
    }
   ],
   "source": [
    "# we can make the local variable refer to the global by using global keyword\n",
    "\n",
    "\n",
    "c=1\n",
    "\n",
    "def demo2():\n",
    "    global c\n",
    "    c =   c + 1\n",
    "    print(c)\n",
    "    \n",
    "demo2()\n",
    "\n"
   ]
  },
  {
   "cell_type": "markdown",
   "id": "45abf681",
   "metadata": {},
   "source": [
    "> #### 10. What is the data type of None?"
   ]
  },
  {
   "cell_type": "code",
   "execution_count": 27,
   "id": "60617da8",
   "metadata": {},
   "outputs": [
    {
     "data": {
      "text/plain": [
       "NoneType"
      ]
     },
     "execution_count": 27,
     "metadata": {},
     "output_type": "execute_result"
    }
   ],
   "source": [
    "a= None\n",
    "type (a)"
   ]
  },
  {
   "cell_type": "markdown",
   "id": "c85adcda",
   "metadata": {},
   "source": [
    "The None keyword is used to define a null value, or no value at all.\n",
    "\n",
    "None is not the same as 0, False, or an empty string. \n",
    "\n",
    "None is a data type of its own (NoneType) and only None can be None."
   ]
  },
  {
   "cell_type": "markdown",
   "id": "008a403b",
   "metadata": {},
   "source": [
    "> #### 11. What does the sentence import areallyourpetsnamederic do?"
   ]
  },
  {
   "cell_type": "code",
   "execution_count": 28,
   "id": "3c34561d",
   "metadata": {},
   "outputs": [
    {
     "ename": "ModuleNotFoundError",
     "evalue": "No module named 'areallyourpetsnamederic'",
     "output_type": "error",
     "traceback": [
      "\u001b[1;31m---------------------------------------------------------------------------\u001b[0m",
      "\u001b[1;31mModuleNotFoundError\u001b[0m                       Traceback (most recent call last)",
      "\u001b[1;32m<ipython-input-28-bc0a7cc000f7>\u001b[0m in \u001b[0;36m<module>\u001b[1;34m\u001b[0m\n\u001b[1;32m----> 1\u001b[1;33m \u001b[1;32mimport\u001b[0m \u001b[0mareallyourpetsnamederic\u001b[0m\u001b[1;33m\u001b[0m\u001b[1;33m\u001b[0m\u001b[0m\n\u001b[0m",
      "\u001b[1;31mModuleNotFoundError\u001b[0m: No module named 'areallyourpetsnamederic'"
     ]
    }
   ],
   "source": [
    "import areallyourpetsnamederic "
   ]
  },
  {
   "cell_type": "markdown",
   "id": "b0be1b2c",
   "metadata": {},
   "source": [
    "The statement is supposed to import the module name 'areallyourpetsnamederic'\n",
    "\n",
    "However there is no such module in python"
   ]
  },
  {
   "cell_type": "markdown",
   "id": "e95c0f11",
   "metadata": {},
   "source": [
    "> #### 12. If you had a bacon() feature in a spam module, what would you call it after importing spam?"
   ]
  },
  {
   "cell_type": "markdown",
   "id": "1156ffd7",
   "metadata": {},
   "source": [
    "spam.bacon()"
   ]
  },
  {
   "cell_type": "markdown",
   "id": "aa46c5a4",
   "metadata": {},
   "source": [
    "> #### 13. What can you do to save a programme from crashing if it encounters an error?"
   ]
  },
  {
   "cell_type": "code",
   "execution_count": 34,
   "id": "a52a5735",
   "metadata": {},
   "outputs": [
    {
     "name": "stdout",
     "output_type": "stream",
     "text": [
      "Enter a Non-Zero integer    4\n",
      "0.5\n",
      "Else caluse being executed after successful execution of the try clause\n"
     ]
    }
   ],
   "source": [
    "# We can put the piece of error causing code inside a try clause\n",
    "\n",
    "a=int(input('Enter a Non-Zero integer    '))\n",
    "\n",
    "try:\n",
    "    b=2/a\n",
    "    print(b)\n",
    "except:\n",
    "    print('Except caluse being executed after un-successful execution of the try clause')\n",
    "else:\n",
    "    print('Else caluse being executed after successful execution of the try clause')\n",
    "    \n"
   ]
  },
  {
   "cell_type": "markdown",
   "id": "c4523964",
   "metadata": {},
   "source": [
    "> #### 14. What is the purpose of the try clause? What is the purpose of the except clause?"
   ]
  },
  {
   "cell_type": "markdown",
   "id": "0f270614",
   "metadata": {},
   "source": [
    "Suspicious or the Error causing code must be inside the try clause.\n",
    "\n",
    "The except clause will be executed incase a error is encountered within the try clause.\n",
    "\n",
    "If no error occurs then the else clause will be executed after the successful exceution of the try clause."
   ]
  },
  {
   "cell_type": "code",
   "execution_count": null,
   "id": "de7c3330",
   "metadata": {},
   "outputs": [],
   "source": []
  }
 ],
 "metadata": {
  "kernelspec": {
   "display_name": "Python 3",
   "language": "python",
   "name": "python3"
  },
  "language_info": {
   "codemirror_mode": {
    "name": "ipython",
    "version": 3
   },
   "file_extension": ".py",
   "mimetype": "text/x-python",
   "name": "python",
   "nbconvert_exporter": "python",
   "pygments_lexer": "ipython3",
   "version": "3.8.8"
  }
 },
 "nbformat": 4,
 "nbformat_minor": 5
}
