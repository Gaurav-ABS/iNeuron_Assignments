{
 "cells": [
  {
   "cell_type": "markdown",
   "id": "6590b108",
   "metadata": {},
   "source": [
    "Create a function that can take any number of data and return a list containing list of separate data types"
   ]
  },
  {
   "cell_type": "code",
   "execution_count": 2,
   "id": "d72f2a59",
   "metadata": {},
   "outputs": [
    {
     "name": "stdout",
     "output_type": "stream",
     "text": [
      "{\"<class 'str'>\": ['d'], \"<class 'int'>\": [2, 3], \"<class 'list'>\": [['a', 3, 4], [7, 8, 9]], \"<class 'tuple'>\": [(1, 2), (3, 4)]}\n",
      "dict_values([['d'], [2, 3], [['a', 3, 4], [7, 8, 9]], [(1, 2), (3, 4)]])\n"
     ]
    }
   ],
   "source": [
    "def fun1(*args):\n",
    "    diffDataTypes=dict()\n",
    "    for i in range(len(args)):\n",
    "        name=str(type(args[i]))\n",
    "        if name in diffDataTypes:\n",
    "            diffDataTypes[name].append(args[i])\n",
    "        else:\n",
    "            diffDataTypes[name]=list()\n",
    "            diffDataTypes[name].append(args[i])\n",
    "    print(diffDataTypes)\n",
    "\n",
    "    print(diffDataTypes.values())    \n",
    "        \n",
    "        \n",
    "            \n",
    "fun1(\"d\",2,3,[\"a\",3,4],[7,8,9],(1,2),(3,4))   \n"
   ]
  },
  {
   "cell_type": "code",
   "execution_count": null,
   "id": "d527753d",
   "metadata": {},
   "outputs": [],
   "source": []
  }
 ],
 "metadata": {
  "kernelspec": {
   "display_name": "Python 3",
   "language": "python",
   "name": "python3"
  },
  "language_info": {
   "codemirror_mode": {
    "name": "ipython",
    "version": 3
   },
   "file_extension": ".py",
   "mimetype": "text/x-python",
   "name": "python",
   "nbconvert_exporter": "python",
   "pygments_lexer": "ipython3",
   "version": "3.8.8"
  }
 },
 "nbformat": 4,
 "nbformat_minor": 5
}
