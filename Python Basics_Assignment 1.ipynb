{
 "cells": [
  {
   "cell_type": "markdown",
   "id": "5903bd27",
   "metadata": {},
   "source": [
    "# Python Basics_Assignment 1"
   ]
  },
  {
   "cell_type": "markdown",
   "id": "545f01fa",
   "metadata": {},
   "source": [
    "---"
   ]
  },
  {
   "cell_type": "markdown",
   "id": "0e123cee",
   "metadata": {},
   "source": [
    "> #### 1.         In the below elements which of them are values or an expression? <br>eg:- values can be integer or string and expressions will be mathematical operators.\n",
    "\n",
    "> ###### * \n",
    "> ###### 'hello'\n",
    "> ###### -87.8\n",
    "> ###### - \n",
    "> ###### / \n",
    "> ###### +\n",
    "> ###### 6 \n"
   ]
  },
  {
   "cell_type": "markdown",
   "id": "9276227f",
   "metadata": {},
   "source": [
    "##### Answer:"
   ]
  },
  {
   "cell_type": "markdown",
   "id": "e5470f23",
   "metadata": {},
   "source": [
    "##### * is an Mathematical Operator. "
   ]
  },
  {
   "cell_type": "code",
   "execution_count": 1,
   "id": "c924ae9c",
   "metadata": {},
   "outputs": [
    {
     "data": {
      "text/plain": [
       "6"
      ]
     },
     "execution_count": 1,
     "metadata": {},
     "output_type": "execute_result"
    }
   ],
   "source": [
    "# It behaves like multiplication for numbers\n",
    "\n",
    "2*3\n"
   ]
  },
  {
   "cell_type": "code",
   "execution_count": 2,
   "id": "70dfb2cc",
   "metadata": {},
   "outputs": [
    {
     "name": "stdout",
     "output_type": "stream",
     "text": [
      "absabsabs\n",
      "['a', 'b', 's', 'a', 'b', 's', 'a', 'b', 's']\n",
      "('abs', ['a', 'b', 's'], 'abs', ['a', 'b', 's'], 'abs', ['a', 'b', 's'])\n"
     ]
    }
   ],
   "source": [
    "# Different behaviour when used with String, List, Tuple data types\n",
    "\n",
    "a=\"abs\"\n",
    "print(a*3)\n",
    "\n",
    "b=['a','b','s']\n",
    "print(b*3)\n",
    "\n",
    "c=(a,b)\n",
    "print(c*3)\n",
    "\n"
   ]
  },
  {
   "cell_type": "markdown",
   "id": "eb67002c",
   "metadata": {},
   "source": [
    "##### 'hello' is Value of data type string"
   ]
  },
  {
   "cell_type": "code",
   "execution_count": 3,
   "id": "8b7e6a39",
   "metadata": {},
   "outputs": [
    {
     "name": "stdout",
     "output_type": "stream",
     "text": [
      "<class 'str'>\n"
     ]
    }
   ],
   "source": [
    "str= 'hello'\n",
    "print(type(str))"
   ]
  },
  {
   "cell_type": "markdown",
   "id": "0fac7f78",
   "metadata": {},
   "source": [
    "##### -87.8 is a Value of data type Float"
   ]
  },
  {
   "cell_type": "code",
   "execution_count": 4,
   "id": "b8c3d64f",
   "metadata": {},
   "outputs": [
    {
     "name": "stdout",
     "output_type": "stream",
     "text": [
      "<class 'float'>\n"
     ]
    }
   ],
   "source": [
    "a = -87.8\n",
    "print(type(a))"
   ]
  },
  {
   "cell_type": "markdown",
   "id": "2f8ce6ff",
   "metadata": {},
   "source": [
    "##### - + / are Mathematical Opearators"
   ]
  },
  {
   "cell_type": "code",
   "execution_count": 5,
   "id": "833bb0d0",
   "metadata": {},
   "outputs": [
    {
     "data": {
      "text/plain": [
       "0.0"
      ]
     },
     "execution_count": 5,
     "metadata": {},
     "output_type": "execute_result"
    }
   ],
   "source": [
    "x= 1+2 /2 -2\n",
    "x\n",
    "# Follows BODMAS rule "
   ]
  },
  {
   "cell_type": "code",
   "execution_count": 6,
   "id": "63dc956d",
   "metadata": {},
   "outputs": [
    {
     "data": {
      "text/plain": [
       "-0.5"
      ]
     },
     "execution_count": 6,
     "metadata": {},
     "output_type": "execute_result"
    }
   ],
   "source": [
    "x= (1+2) /2 -2\n",
    "x\n",
    "# Follows BODMAS rule "
   ]
  },
  {
   "cell_type": "markdown",
   "id": "3589e6db",
   "metadata": {},
   "source": [
    "##### 6 is a Value of data type Integer"
   ]
  },
  {
   "cell_type": "code",
   "execution_count": 7,
   "id": "9ab86487",
   "metadata": {},
   "outputs": [
    {
     "data": {
      "text/plain": [
       "int"
      ]
     },
     "execution_count": 7,
     "metadata": {},
     "output_type": "execute_result"
    }
   ],
   "source": [
    "type(6)"
   ]
  },
  {
   "cell_type": "markdown",
   "id": "e3222985",
   "metadata": {},
   "source": [
    "---"
   ]
  },
  {
   "cell_type": "markdown",
   "id": "b8368b54",
   "metadata": {},
   "source": [
    "> #### 2. What is the difference between string and variable?"
   ]
  },
  {
   "cell_type": "markdown",
   "id": "845541ed",
   "metadata": {},
   "source": [
    "#### Answer:"
   ]
  },
  {
   "cell_type": "markdown",
   "id": "5c36b992",
   "metadata": {},
   "source": [
    "String is a Data type, one of the many data types available in Python. <br> Other examples of Data types are int, float<br> \n",
    "\n",
    "Variable is like a container in which a value of any data type may be stored"
   ]
  },
  {
   "cell_type": "markdown",
   "id": "108b16de",
   "metadata": {},
   "source": [
    "---"
   ]
  },
  {
   "cell_type": "markdown",
   "id": "a201efd0",
   "metadata": {},
   "source": [
    "> #### 3. Describe three different data types."
   ]
  },
  {
   "cell_type": "markdown",
   "id": "6925abc4",
   "metadata": {},
   "source": [
    "#### Answer:"
   ]
  },
  {
   "cell_type": "markdown",
   "id": "9e0a2b55",
   "metadata": {},
   "source": [
    "Int is used to represent Integer Values<br>\n",
    "Float is used to represent Decimal Values<br>\n",
    "String is used to represent Words (basically any thing put under quotes qualifies as a string data type)"
   ]
  },
  {
   "cell_type": "markdown",
   "id": "4ff634ce",
   "metadata": {},
   "source": [
    "---"
   ]
  },
  {
   "cell_type": "markdown",
   "id": "854ef5e4",
   "metadata": {},
   "source": [
    "> #### 4. What is an Expression made up of ? What do all expressions do ?"
   ]
  },
  {
   "cell_type": "markdown",
   "id": "b67ba504",
   "metadata": {},
   "source": [
    "#### Answer:"
   ]
  },
  {
   "cell_type": "markdown",
   "id": "8030f7c1",
   "metadata": {},
   "source": [
    "Expression generally implement a Mathematical Operation on Numeric Data types to carry out some steps in our program.<br>\n",
    "For example '*' for Multiplication ; '/' for Division ; '+' for Addition to name a few <br>\n",
    "\n",
    "However we can think of any manipulation on other data types also to be excuted by writing some expression.<br>\n",
    "For example the String Concatenation Operation which is represented below:"
   ]
  },
  {
   "cell_type": "code",
   "execution_count": 8,
   "id": "755d0161",
   "metadata": {},
   "outputs": [
    {
     "name": "stdout",
     "output_type": "stream",
     "text": [
      "Gaurav ABS\n"
     ]
    }
   ],
   "source": [
    "lst_name = 'ABS'\n",
    "frst_name= 'Gaurav'\n",
    "full_name= frst_name +\" \"+ lst_name   # The right side of the = sign may be seen as an Expression\n",
    "print(full_name)"
   ]
  },
  {
   "cell_type": "markdown",
   "id": "2c0d100d",
   "metadata": {},
   "source": [
    "---"
   ]
  },
  {
   "cell_type": "markdown",
   "id": "6c1f8a37",
   "metadata": {},
   "source": [
    "> #### 5. What is the difference between a Statement and an Expression ?"
   ]
  },
  {
   "cell_type": "markdown",
   "id": "18ccd186",
   "metadata": {},
   "source": [
    "Taking the code example in the previous question. We understand what an Expression is.<br> Some part of code where data manipulatin is being done.\n",
    "\n",
    "A Statement will be any linen of code not necessarily involving any manipulation or logic execution. For example an assignment statement a=10\n",
    "\n",
    "\n",
    "_A quick search on Google provides a more Formal and a Succint definition:<br>\n",
    "In programming language terminology, an “expression” is a combination of values and functions that are combined and interpreted by the compiler to create a new value, as opposed to a “statement” which is just a standalone unit of execution and doesn't return anything_"
   ]
  },
  {
   "cell_type": "markdown",
   "id": "2180c376",
   "metadata": {},
   "source": [
    "---"
   ]
  },
  {
   "cell_type": "markdown",
   "id": "7dc6e5d3",
   "metadata": {},
   "source": [
    "> #### 6. After running the following code, what does the variable bacon contain?\n",
    "bacon = 22 <br>\n",
    "bacon + 1\n"
   ]
  },
  {
   "cell_type": "code",
   "execution_count": 9,
   "id": "e1f7fa63",
   "metadata": {},
   "outputs": [
    {
     "name": "stdout",
     "output_type": "stream",
     "text": [
      "22\n",
      "23\n"
     ]
    }
   ],
   "source": [
    "bacon =22\n",
    "bacon + 1\n",
    "\n",
    "print(bacon)\n",
    "\n",
    "print(bacon + 1)\n"
   ]
  },
  {
   "cell_type": "markdown",
   "id": "975e8f9d",
   "metadata": {},
   "source": [
    "As seen, variable bacon contains the original value of 22.<br> If we wish to increment its value by 1 then the following code is suggested. <br>\n",
    "\n"
   ]
  },
  {
   "cell_type": "code",
   "execution_count": 10,
   "id": "ac22eb20",
   "metadata": {},
   "outputs": [
    {
     "name": "stdout",
     "output_type": "stream",
     "text": [
      "23\n"
     ]
    }
   ],
   "source": [
    "bacon =22\n",
    "bacon = bacon + 1\n",
    "print(bacon)"
   ]
  },
  {
   "cell_type": "markdown",
   "id": "7ab3a853",
   "metadata": {},
   "source": [
    "---"
   ]
  },
  {
   "cell_type": "markdown",
   "id": "cf94b0ba",
   "metadata": {},
   "source": [
    "> #### 7. What should the values of the following two terms be? <br>\n",
    "'spam' + 'spamspam' <br>\n",
    "'spam' * 3\n"
   ]
  },
  {
   "cell_type": "code",
   "execution_count": 11,
   "id": "a880e151",
   "metadata": {},
   "outputs": [
    {
     "name": "stdout",
     "output_type": "stream",
     "text": [
      "spamspamspam\n"
     ]
    }
   ],
   "source": [
    "print('spam' + 'spamspam')"
   ]
  },
  {
   "cell_type": "code",
   "execution_count": 12,
   "id": "91ce34a3",
   "metadata": {},
   "outputs": [
    {
     "name": "stdout",
     "output_type": "stream",
     "text": [
      "spamspamspam\n"
     ]
    }
   ],
   "source": [
    "print('spam' * 3)"
   ]
  },
  {
   "cell_type": "markdown",
   "id": "14450308",
   "metadata": {},
   "source": [
    "---"
   ]
  },
  {
   "cell_type": "markdown",
   "id": "67ff2c31",
   "metadata": {},
   "source": [
    "> #### 8. Why is eggs a valid variable name while 100 is invalid?"
   ]
  },
  {
   "cell_type": "markdown",
   "id": "7372b81a",
   "metadata": {},
   "source": [
    "Although we have a lot of freedom when it comes to namaing variables. Still there are some rules to be adhered to:\n",
    "    \n",
    "- Variable name must start only with a letter or the underscore'_' character\n",
    "- Variable name cannot start with a Number\n",
    "- Variable name only contain alpha-numeric characters and underscores (A-z, 0-9, and _ )"
   ]
  },
  {
   "cell_type": "code",
   "execution_count": 13,
   "id": "f3e87633",
   "metadata": {},
   "outputs": [
    {
     "data": {
      "text/plain": [
       "1"
      ]
     },
     "execution_count": 13,
     "metadata": {},
     "output_type": "execute_result"
    }
   ],
   "source": [
    "x=1\n",
    "x"
   ]
  },
  {
   "cell_type": "code",
   "execution_count": 14,
   "id": "a4bcdba3",
   "metadata": {},
   "outputs": [
    {
     "data": {
      "text/plain": [
       "1"
      ]
     },
     "execution_count": 14,
     "metadata": {},
     "output_type": "execute_result"
    }
   ],
   "source": [
    "_x=1\n",
    "_x"
   ]
  },
  {
   "cell_type": "code",
   "execution_count": 15,
   "id": "cb1dcc04",
   "metadata": {},
   "outputs": [
    {
     "data": {
      "text/plain": [
       "1"
      ]
     },
     "execution_count": 15,
     "metadata": {},
     "output_type": "execute_result"
    }
   ],
   "source": [
    "_1=1\n",
    "_1"
   ]
  },
  {
   "cell_type": "code",
   "execution_count": 16,
   "id": "f31e781f",
   "metadata": {},
   "outputs": [
    {
     "data": {
      "text/plain": [
       "1"
      ]
     },
     "execution_count": 16,
     "metadata": {},
     "output_type": "execute_result"
    }
   ],
   "source": [
    "x1=1\n",
    "x1"
   ]
  },
  {
   "cell_type": "code",
   "execution_count": 17,
   "id": "842f1654",
   "metadata": {},
   "outputs": [
    {
     "data": {
      "text/plain": [
       "1"
      ]
     },
     "execution_count": 17,
     "metadata": {},
     "output_type": "execute_result"
    }
   ],
   "source": [
    "_=1\n",
    "_"
   ]
  },
  {
   "cell_type": "markdown",
   "id": "6c4c87ed",
   "metadata": {},
   "source": [
    "---"
   ]
  },
  {
   "cell_type": "markdown",
   "id": "4d3d4010",
   "metadata": {},
   "source": [
    "> #### 9. What three functions can be used to get the integer, floating-point number, or string version of a value?"
   ]
  },
  {
   "cell_type": "code",
   "execution_count": 8,
   "id": "a126c024",
   "metadata": {},
   "outputs": [
    {
     "name": "stdout",
     "output_type": "stream",
     "text": [
      "Convert the float and string to integer\n",
      "456\n",
      "558\n",
      "Convert the int and string to float\n",
      "456.0\n",
      "558.0\n",
      "Convert the int and float to string \n",
      "<class 'str'> : 456\n",
      "<class 'str'> : 456.0\n"
     ]
    }
   ],
   "source": [
    "x=456\n",
    "y=456.0\n",
    "z='558'\n",
    "\n",
    "\n",
    "# Convert the float and string to integer\n",
    "print('Convert the float and string to integer')\n",
    "\n",
    "print(int(y))\n",
    "print(int(z))\n",
    "\n",
    "# Convert the int and string to float\n",
    "print('Convert the int and string to float')\n",
    "\n",
    "print(float(x))\n",
    "print(float(z))\n",
    "\n",
    "# Convert the int and float to string\n",
    "print('Convert the int and float to string ')\n",
    "\n",
    "x=str(x)\n",
    "print(type(x),\":\",x)\n",
    "\n",
    "y =str(y)\n",
    "print(type(y),\":\",y)"
   ]
  },
  {
   "cell_type": "markdown",
   "id": "72349201",
   "metadata": {},
   "source": [
    "---\n"
   ]
  },
  {
   "cell_type": "markdown",
   "id": "aa7cf645",
   "metadata": {},
   "source": [
    "> #### 10. Why does this expression cause an error? How can you fix it?\n",
    "'I have eaten ' + 99 + ' burritos.'\n"
   ]
  },
  {
   "cell_type": "markdown",
   "id": "6cebc5e8",
   "metadata": {},
   "source": [
    "String data type cannot be added / concatenated with numeric data. type<br>\n",
    "\n",
    "We can typecast the inetegr 99 to string data type to rectify the error."
   ]
  },
  {
   "cell_type": "code",
   "execution_count": 1,
   "id": "4f340efe",
   "metadata": {},
   "outputs": [
    {
     "name": "stdout",
     "output_type": "stream",
     "text": [
      "I have eaten  99  burritos.\n"
     ]
    }
   ],
   "source": [
    "print('I have eaten ' ,  str(99) , ' burritos.')"
   ]
  },
  {
   "cell_type": "code",
   "execution_count": null,
   "id": "93842181",
   "metadata": {},
   "outputs": [],
   "source": []
  },
  {
   "cell_type": "code",
   "execution_count": null,
   "id": "759479b1",
   "metadata": {},
   "outputs": [],
   "source": []
  }
 ],
 "metadata": {
  "kernelspec": {
   "display_name": "Python 3",
   "language": "python",
   "name": "python3"
  },
  "language_info": {
   "codemirror_mode": {
    "name": "ipython",
    "version": 3
   },
   "file_extension": ".py",
   "mimetype": "text/x-python",
   "name": "python",
   "nbconvert_exporter": "python",
   "pygments_lexer": "ipython3",
   "version": "3.8.8"
  }
 },
 "nbformat": 4,
 "nbformat_minor": 5
}
