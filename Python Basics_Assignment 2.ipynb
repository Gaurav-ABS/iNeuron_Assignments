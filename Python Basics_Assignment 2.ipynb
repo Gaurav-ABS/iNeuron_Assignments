{
 "cells": [
  {
   "cell_type": "markdown",
   "id": "c5306ee8",
   "metadata": {},
   "source": [
    "# Python Basics_Assignment 2"
   ]
  },
  {
   "cell_type": "markdown",
   "id": "829f68f3",
   "metadata": {},
   "source": [
    "---"
   ]
  },
  {
   "cell_type": "markdown",
   "id": "b6443e84",
   "metadata": {},
   "source": [
    "> #### 1.  What are the two values of the Boolean data type? How do you write them?"
   ]
  },
  {
   "cell_type": "markdown",
   "id": "5e0ed8c7",
   "metadata": {},
   "source": [
    "##### Answer:\n",
    "\n",
    "True and False"
   ]
  },
  {
   "cell_type": "code",
   "execution_count": 1,
   "id": "48e8fa6d",
   "metadata": {},
   "outputs": [
    {
     "name": "stdout",
     "output_type": "stream",
     "text": [
      "<class 'bool'>\n"
     ]
    }
   ],
   "source": [
    "x=True\n",
    "\n",
    "print(type(x))"
   ]
  },
  {
   "cell_type": "code",
   "execution_count": 2,
   "id": "c984335a",
   "metadata": {},
   "outputs": [
    {
     "name": "stdout",
     "output_type": "stream",
     "text": [
      "<class 'bool'>\n"
     ]
    }
   ],
   "source": [
    "y=False\n",
    "\n",
    "print(type(y))"
   ]
  },
  {
   "cell_type": "markdown",
   "id": "209d19dd",
   "metadata": {},
   "source": [
    "> #### 2. What are the three different types of Boolean operators?"
   ]
  },
  {
   "cell_type": "markdown",
   "id": "50544369",
   "metadata": {},
   "source": [
    "- #### and operator"
   ]
  },
  {
   "cell_type": "markdown",
   "id": "9030c2b4",
   "metadata": {},
   "source": [
    "Returns True ONLY IF all the conditions are True"
   ]
  },
  {
   "cell_type": "code",
   "execution_count": 3,
   "id": "f4716cc5",
   "metadata": {},
   "outputs": [
    {
     "name": "stdout",
     "output_type": "stream",
     "text": [
      "True\n"
     ]
    }
   ],
   "source": [
    "x=5\n",
    "\n",
    "if x > 2 and x > 4:\n",
    "    print (True)\n",
    "else:\n",
    "    print(False)"
   ]
  },
  {
   "cell_type": "code",
   "execution_count": 4,
   "id": "1be50dc5",
   "metadata": {},
   "outputs": [
    {
     "name": "stdout",
     "output_type": "stream",
     "text": [
      "False\n"
     ]
    }
   ],
   "source": [
    "x=5\n",
    "\n",
    "if x > 6 and x > 2:\n",
    "    print (True)\n",
    "else:\n",
    "    print(False)"
   ]
  },
  {
   "cell_type": "markdown",
   "id": "e204d67b",
   "metadata": {},
   "source": [
    "- #### or operator"
   ]
  },
  {
   "cell_type": "markdown",
   "id": "0cab3e02",
   "metadata": {},
   "source": [
    "Returns False ONLY IF all the conditions are False"
   ]
  },
  {
   "cell_type": "code",
   "execution_count": 5,
   "id": "0a13e5a5",
   "metadata": {},
   "outputs": [
    {
     "name": "stdout",
     "output_type": "stream",
     "text": [
      "True\n"
     ]
    }
   ],
   "source": [
    "x=5\n",
    "\n",
    "if x > 6 or x > 2:\n",
    "    print (True)\n",
    "else:\n",
    "    print(False)"
   ]
  },
  {
   "cell_type": "code",
   "execution_count": 6,
   "id": "343ccc72",
   "metadata": {},
   "outputs": [
    {
     "name": "stdout",
     "output_type": "stream",
     "text": [
      "False\n"
     ]
    }
   ],
   "source": [
    "x=5\n",
    "\n",
    "if x > 6 and x > 7:\n",
    "    print (True)\n",
    "else:\n",
    "    print(False)"
   ]
  },
  {
   "cell_type": "markdown",
   "id": "e1ca434a",
   "metadata": {},
   "source": [
    "- #### not operator"
   ]
  },
  {
   "cell_type": "code",
   "execution_count": 7,
   "id": "acb5c57c",
   "metadata": {},
   "outputs": [
    {
     "ename": "SyntaxError",
     "evalue": "invalid syntax (<ipython-input-7-f12af2908fe1>, line 1)",
     "output_type": "error",
     "traceback": [
      "\u001b[1;36m  File \u001b[1;32m\"<ipython-input-7-f12af2908fe1>\"\u001b[1;36m, line \u001b[1;32m1\u001b[0m\n\u001b[1;33m    Reverses the result of the underlying condition\u001b[0m\n\u001b[1;37m             ^\u001b[0m\n\u001b[1;31mSyntaxError\u001b[0m\u001b[1;31m:\u001b[0m invalid syntax\n"
     ]
    }
   ],
   "source": [
    "Reverses the result of the underlying condition"
   ]
  },
  {
   "cell_type": "code",
   "execution_count": null,
   "id": "99fa382e",
   "metadata": {},
   "outputs": [],
   "source": [
    "x=5\n",
    "\n",
    "if not (x > 6 or x > 2):\n",
    "    print (True)\n",
    "else:\n",
    "    print(False)"
   ]
  },
  {
   "cell_type": "markdown",
   "id": "9202f30d",
   "metadata": {},
   "source": [
    "> #### 3. Make a list of each Boolean operator's truth tables (i.e. every possible combination of Boolean values for the operator and what it evaluate )."
   ]
  },
  {
   "cell_type": "markdown",
   "id": "93ec86e8",
   "metadata": {},
   "source": [
    "- #### and operator"
   ]
  },
  {
   "cell_type": "markdown",
   "id": "fcb9bfb4",
   "metadata": {},
   "source": [
    "0   ;   0   =   0 <br>\n",
    "0   ;   1   =   0 <br>\n",
    "1   ;   0   =   0 <br>\n",
    "1   ;   1   =   1 <br>\n"
   ]
  },
  {
   "cell_type": "markdown",
   "id": "64d15e98",
   "metadata": {},
   "source": [
    "- #### or operator"
   ]
  },
  {
   "cell_type": "markdown",
   "id": "43b83890",
   "metadata": {},
   "source": [
    "0   ;   0   =   0 <br>\n",
    "0   ;   1   =   1 <br>\n",
    "1   ;   0   =   1 <br>\n",
    "1   ;   1   =   1 <br>\n"
   ]
  },
  {
   "cell_type": "markdown",
   "id": "ae556d09",
   "metadata": {},
   "source": [
    "- #### not operator"
   ]
  },
  {
   "cell_type": "markdown",
   "id": "30905aa7",
   "metadata": {},
   "source": [
    "0   and   0   =   0  -----> Not = 1<br>\n",
    "0   and   1   =   0  -----> Not = 1 <br>\n",
    "1   and   0   =   0  -----> Not = 1 <br>\n",
    "1   and   1   =   1  -----> Not = 0 <br>\n",
    "\n",
    "0    or   0   =   0  -----> Not = 1 <br>\n",
    "0    or   1   =   1  -----> Not = 0 <br>\n",
    "1    or   0   =   1  -----> Not = 0 <br>\n",
    "1    or   1   =   1  -----> Not = 0 <br>\n",
    "\n"
   ]
  },
  {
   "cell_type": "markdown",
   "id": "7923afa5",
   "metadata": {},
   "source": [
    "> #### 4. What are the values of the following expressions?"
   ]
  },
  {
   "cell_type": "markdown",
   "id": "fc74b2dd",
   "metadata": {},
   "source": [
    "- ####  (5 > 4) and (3 == 5)"
   ]
  },
  {
   "cell_type": "code",
   "execution_count": 11,
   "id": "8d89941f",
   "metadata": {},
   "outputs": [
    {
     "data": {
      "text/plain": [
       "False"
      ]
     },
     "execution_count": 11,
     "metadata": {},
     "output_type": "execute_result"
    }
   ],
   "source": [
    "x = (5>4) and (3==5)\n",
    "bool (x)"
   ]
  },
  {
   "cell_type": "markdown",
   "id": "a778e2d5",
   "metadata": {},
   "source": [
    "- #### not (5 > 4)"
   ]
  },
  {
   "cell_type": "code",
   "execution_count": 12,
   "id": "5037bbcb",
   "metadata": {},
   "outputs": [
    {
     "data": {
      "text/plain": [
       "False"
      ]
     },
     "execution_count": 12,
     "metadata": {},
     "output_type": "execute_result"
    }
   ],
   "source": [
    "x = not(5>4)\n",
    "bool(x)"
   ]
  },
  {
   "cell_type": "markdown",
   "id": "7091dd7d",
   "metadata": {},
   "source": [
    "- #### (5 > 4) or (3 == 5)"
   ]
  },
  {
   "cell_type": "code",
   "execution_count": 13,
   "id": "1a946e68",
   "metadata": {},
   "outputs": [
    {
     "data": {
      "text/plain": [
       "True"
      ]
     },
     "execution_count": 13,
     "metadata": {},
     "output_type": "execute_result"
    }
   ],
   "source": [
    "x = (5>4) or (3==5)\n",
    "bool (x)"
   ]
  },
  {
   "cell_type": "markdown",
   "id": "0f8c8da1",
   "metadata": {},
   "source": [
    "- #### not ((5 > 4) or (3 == 5))"
   ]
  },
  {
   "cell_type": "code",
   "execution_count": 14,
   "id": "f7c7b599",
   "metadata": {},
   "outputs": [
    {
     "data": {
      "text/plain": [
       "False"
      ]
     },
     "execution_count": 14,
     "metadata": {},
     "output_type": "execute_result"
    }
   ],
   "source": [
    "x = not((5>4) or (3==5))\n",
    "bool (x)"
   ]
  },
  {
   "cell_type": "markdown",
   "id": "b892947c",
   "metadata": {},
   "source": [
    "- #### (True and True) and (True == False)"
   ]
  },
  {
   "cell_type": "code",
   "execution_count": 15,
   "id": "2510c3d2",
   "metadata": {},
   "outputs": [
    {
     "data": {
      "text/plain": [
       "False"
      ]
     },
     "execution_count": 15,
     "metadata": {},
     "output_type": "execute_result"
    }
   ],
   "source": [
    "x = (True and True) and (True == False)\n",
    "\n",
    "bool(x)"
   ]
  },
  {
   "cell_type": "markdown",
   "id": "34a12b7e",
   "metadata": {},
   "source": [
    "- #### (not False) or (not True)"
   ]
  },
  {
   "cell_type": "code",
   "execution_count": 16,
   "id": "9448f73d",
   "metadata": {},
   "outputs": [
    {
     "data": {
      "text/plain": [
       "True"
      ]
     },
     "execution_count": 16,
     "metadata": {},
     "output_type": "execute_result"
    }
   ],
   "source": [
    "x = (not False) or (not True)\n",
    "bool (x)"
   ]
  },
  {
   "cell_type": "markdown",
   "id": "18bffe3c",
   "metadata": {},
   "source": [
    "> #### 5. What are the six comparison operators?"
   ]
  },
  {
   "cell_type": "markdown",
   "id": "e3613c07",
   "metadata": {},
   "source": [
    "Equal\tx == y\t\n",
    "Not equal\tx != y\t\n",
    "Greater than\tx > y\t\n",
    "Less than\tx < y\t\n",
    "Greater than or equal to\tx >= y\t\n",
    "Less than or equal to\tx <= y"
   ]
  },
  {
   "cell_type": "markdown",
   "id": "206f11a7",
   "metadata": {},
   "source": [
    "> #### 6.How do you tell the difference between the equal to and assignment operators?Describe a condition and when you would use one."
   ]
  },
  {
   "cell_type": "markdown",
   "id": "5caa72ff",
   "metadata": {},
   "source": [
    "\n",
    "\n",
    "Assignment operator is a '=' <br>\n",
    "\n",
    "where as the equality comparision operator is '==' <br> \n"
   ]
  },
  {
   "cell_type": "code",
   "execution_count": 17,
   "id": "68a17a7a",
   "metadata": {},
   "outputs": [
    {
     "name": "stdout",
     "output_type": "stream",
     "text": [
      "this is an exmaple using both operators\n"
     ]
    }
   ],
   "source": [
    "x = 4\n",
    "y = 5\n",
    "\n",
    "if x==y:\n",
    "    print(\"x is equal to y\")\n",
    "else:\n",
    "    print(\"this is an exmaple using both operators\")\n"
   ]
  },
  {
   "cell_type": "markdown",
   "id": "60dd070a",
   "metadata": {},
   "source": [
    "> #### 7. Identify the three blocks in this code:"
   ]
  },
  {
   "cell_type": "code",
   "execution_count": 18,
   "id": "51ad7fc3",
   "metadata": {},
   "outputs": [
    {
     "name": "stdout",
     "output_type": "stream",
     "text": [
      "ham\n",
      "spam\n",
      "spam\n"
     ]
    }
   ],
   "source": [
    "spam = 0\n",
    "\n",
    "# FIRST Block\n",
    "if spam == 10:\n",
    "    print('eggs')\n",
    "\n",
    "# SECOND Block\n",
    "if spam > 5:\n",
    "    print('bacon')\n",
    "    \n",
    "# THIRD Block\n",
    "else:\n",
    "    print('ham')\n",
    "    print('spam')\n",
    "    print('spam')\n"
   ]
  },
  {
   "cell_type": "markdown",
   "id": "89aedd4d",
   "metadata": {},
   "source": [
    "> #### 8.Write code that prints Hello if 1 is stored in spam, prints Howdy if 2 is stored in spam, and prints Greetings! if anything else is stored in spam."
   ]
  },
  {
   "cell_type": "code",
   "execution_count": 8,
   "id": "5387a260",
   "metadata": {},
   "outputs": [],
   "source": [
    "spam = 'anything else'\n"
   ]
  },
  {
   "cell_type": "code",
   "execution_count": 9,
   "id": "02e1cdf9",
   "metadata": {},
   "outputs": [
    {
     "name": "stdout",
     "output_type": "stream",
     "text": [
      "Greetings!\n"
     ]
    }
   ],
   "source": [
    "if spam == 1: print ('Hello')\n",
    "\n",
    "elif spam == 2 : print('Howdy')\n",
    "    \n",
    "else : print('Greetings!')"
   ]
  },
  {
   "cell_type": "markdown",
   "id": "23e35b33",
   "metadata": {},
   "source": [
    "> #### 9. If your programme is stuck in an endless loop, what keys you’ll press?"
   ]
  },
  {
   "cell_type": "markdown",
   "id": "0ddfdebc",
   "metadata": {},
   "source": [
    "We can interrupt the progmam manually by pressing  [CTRL + C]  key combination."
   ]
  },
  {
   "cell_type": "markdown",
   "id": "63c823f4",
   "metadata": {},
   "source": [
    "> #### 10. How can you tell the difference between break and continue?"
   ]
  },
  {
   "cell_type": "markdown",
   "id": "a51f2b42",
   "metadata": {},
   "source": [
    "Break statement terminates the loop.\n",
    "\n",
    "Continue statement sends the loop into the next iteration."
   ]
  },
  {
   "cell_type": "code",
   "execution_count": 23,
   "id": "553a8f98",
   "metadata": {},
   "outputs": [
    {
     "name": "stdout",
     "output_type": "stream",
     "text": [
      "a\n"
     ]
    }
   ],
   "source": [
    "# example of BREAK\n",
    "\n",
    "alphabets = [\"a\", \"b\", \"c\"]\n",
    "for x in alphabets:\n",
    "  if x == \"b\":\n",
    "    break\n",
    "  print(x)"
   ]
  },
  {
   "cell_type": "code",
   "execution_count": 24,
   "id": "47499849",
   "metadata": {},
   "outputs": [
    {
     "name": "stdout",
     "output_type": "stream",
     "text": [
      "a\n",
      "c\n"
     ]
    }
   ],
   "source": [
    "# example of CONTINUE\n",
    "\n",
    "alphabets = [\"a\", \"b\", \"c\"]\n",
    "for x in alphabets:\n",
    "  if x == \"b\":\n",
    "    continue\n",
    "  print(x)"
   ]
  },
  {
   "cell_type": "markdown",
   "id": "7d8edcdd",
   "metadata": {},
   "source": [
    "> #### 11. In a for loop, what is the difference between range(10), range(0, 10), and range(0, 10, 1)?"
   ]
  },
  {
   "cell_type": "code",
   "execution_count": 26,
   "id": "a8cd193e",
   "metadata": {},
   "outputs": [
    {
     "name": "stdout",
     "output_type": "stream",
     "text": [
      "0\n",
      "1\n",
      "2\n",
      "3\n",
      "4\n",
      "5\n",
      "6\n",
      "7\n",
      "8\n",
      "9\n"
     ]
    }
   ],
   "source": [
    "for i in range (10):\n",
    "    print(i)\n",
    "\n",
    "# the default starting value is zero"
   ]
  },
  {
   "cell_type": "code",
   "execution_count": 29,
   "id": "64ddc827",
   "metadata": {},
   "outputs": [
    {
     "name": "stdout",
     "output_type": "stream",
     "text": [
      "0\n",
      "1\n",
      "2\n",
      "3\n",
      "4\n",
      "5\n",
      "6\n",
      "7\n",
      "8\n",
      "9\n"
     ]
    }
   ],
   "source": [
    "for i in range (0,10):\n",
    "    print(i)\n",
    "\n",
    "# the starting value has been mentioines as zero, however the default is also zero as seen above"
   ]
  },
  {
   "cell_type": "code",
   "execution_count": 30,
   "id": "ea029721",
   "metadata": {},
   "outputs": [
    {
     "name": "stdout",
     "output_type": "stream",
     "text": [
      "1\n",
      "2\n",
      "3\n",
      "4\n",
      "5\n",
      "6\n",
      "7\n",
      "8\n",
      "9\n"
     ]
    }
   ],
   "source": [
    "for i in range (1,10):\n",
    "    print(i)\n",
    "    \n",
    "# here the starting value has been mentioned as one, as can be seen in the output"
   ]
  },
  {
   "cell_type": "code",
   "execution_count": 31,
   "id": "57e5f4a2",
   "metadata": {},
   "outputs": [
    {
     "name": "stdout",
     "output_type": "stream",
     "text": [
      "0\n",
      "1\n",
      "2\n",
      "3\n",
      "4\n",
      "5\n",
      "6\n",
      "7\n",
      "8\n",
      "9\n"
     ]
    }
   ],
   "source": [
    "for i in range (0,10,1):\n",
    "    print(i)\n",
    "    \n",
    "# here the third paramenter is the size of steps to be taken while iterating,\n",
    "# its value has been set as one however default is also one"
   ]
  },
  {
   "cell_type": "code",
   "execution_count": 33,
   "id": "e524e4f7",
   "metadata": {},
   "outputs": [
    {
     "name": "stdout",
     "output_type": "stream",
     "text": [
      "5\n",
      "8\n",
      "11\n",
      "14\n",
      "17\n"
     ]
    }
   ],
   "source": [
    "for i in range (5,20,3):\n",
    "    print(i)\n",
    "    \n",
    "# example clarifying the role of each parameter of the range fuunction"
   ]
  },
  {
   "cell_type": "code",
   "execution_count": 38,
   "id": "ec511ac6",
   "metadata": {},
   "outputs": [
    {
     "name": "stdout",
     "output_type": "stream",
     "text": [
      "10\n",
      "9\n",
      "8\n",
      "7\n",
      "6\n",
      "5\n",
      "4\n",
      "3\n",
      "2\n",
      "1\n",
      "0\n",
      "-1\n",
      "-2\n",
      "-3\n",
      "-4\n"
     ]
    }
   ],
   "source": [
    "for i in range (10,-5,-1):\n",
    "    print(i)\n",
    "    \n",
    "# example clarifying the role of each parameter of the range fuunction"
   ]
  },
  {
   "cell_type": "markdown",
   "id": "24e26e3e",
   "metadata": {},
   "source": [
    "> #### 12. Write a short program that prints the numbers 1 to 10 using a for loop. Then write an equivalent program that prints the numbers 1 to 10 using a while loop."
   ]
  },
  {
   "cell_type": "code",
   "execution_count": 39,
   "id": "b344e447",
   "metadata": {},
   "outputs": [
    {
     "name": "stdout",
     "output_type": "stream",
     "text": [
      "1\n",
      "2\n",
      "3\n",
      "4\n",
      "5\n",
      "6\n",
      "7\n",
      "8\n",
      "9\n",
      "10\n"
     ]
    }
   ],
   "source": [
    "# for loop\n",
    "\n",
    "for i in range(1,11):\n",
    "    print(i)"
   ]
  },
  {
   "cell_type": "code",
   "execution_count": 40,
   "id": "7699e322",
   "metadata": {},
   "outputs": [
    {
     "name": "stdout",
     "output_type": "stream",
     "text": [
      "1\n",
      "2\n",
      "3\n",
      "4\n",
      "5\n",
      "6\n",
      "7\n",
      "8\n",
      "9\n",
      "10\n"
     ]
    }
   ],
   "source": [
    "# while loop\n",
    "\n",
    "x=1\n",
    "\n",
    "while x<11:\n",
    "    print(x)\n",
    "    x += 1"
   ]
  },
  {
   "cell_type": "markdown",
   "id": "75ce96c1",
   "metadata": {},
   "source": [
    "> #### 13. If you had a function named bacon() inside a module named spam, how would you call it after importing spam?"
   ]
  },
  {
   "cell_type": "markdown",
   "id": "70cca706",
   "metadata": {},
   "source": [
    "spam.bacon()"
   ]
  },
  {
   "cell_type": "code",
   "execution_count": null,
   "id": "4bf0501d",
   "metadata": {},
   "outputs": [],
   "source": []
  }
 ],
 "metadata": {
  "kernelspec": {
   "display_name": "Python 3",
   "language": "python",
   "name": "python3"
  },
  "language_info": {
   "codemirror_mode": {
    "name": "ipython",
    "version": 3
   },
   "file_extension": ".py",
   "mimetype": "text/x-python",
   "name": "python",
   "nbconvert_exporter": "python",
   "pygments_lexer": "ipython3",
   "version": "3.8.8"
  }
 },
 "nbformat": 4,
 "nbformat_minor": 5
}
