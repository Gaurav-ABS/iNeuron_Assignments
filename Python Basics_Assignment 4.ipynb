{
 "cells": [
  {
   "cell_type": "markdown",
   "id": "0be68a7d",
   "metadata": {},
   "source": [
    "# Python Basics_Assignment 4\n",
    "\n",
    "---"
   ]
  },
  {
   "cell_type": "markdown",
   "id": "baa02c40",
   "metadata": {},
   "source": [
    "> #### 1. What exactly is []?"
   ]
  },
  {
   "cell_type": "markdown",
   "id": "c5815cb7",
   "metadata": {},
   "source": [
    "If we assign the value [] to a variable, the variable will be an empty list."
   ]
  },
  {
   "cell_type": "code",
   "execution_count": 2,
   "id": "68ab70e4",
   "metadata": {},
   "outputs": [
    {
     "data": {
      "text/plain": [
       "list"
      ]
     },
     "execution_count": 2,
     "metadata": {},
     "output_type": "execute_result"
    }
   ],
   "source": [
    "l = []\n",
    "type (l)"
   ]
  },
  {
   "cell_type": "code",
   "execution_count": 3,
   "id": "0166622d",
   "metadata": {},
   "outputs": [
    {
     "ename": "IndexError",
     "evalue": "list index out of range",
     "output_type": "error",
     "traceback": [
      "\u001b[1;31m---------------------------------------------------------------------------\u001b[0m",
      "\u001b[1;31mIndexError\u001b[0m                                Traceback (most recent call last)",
      "\u001b[1;32m<ipython-input-3-98c6d61fc190>\u001b[0m in \u001b[0;36m<module>\u001b[1;34m\u001b[0m\n\u001b[1;32m----> 1\u001b[1;33m \u001b[0ml\u001b[0m\u001b[1;33m[\u001b[0m\u001b[1;36m0\u001b[0m\u001b[1;33m]\u001b[0m\u001b[1;33m\u001b[0m\u001b[1;33m\u001b[0m\u001b[0m\n\u001b[0m",
      "\u001b[1;31mIndexError\u001b[0m: list index out of range"
     ]
    }
   ],
   "source": [
    "l[0]"
   ]
  },
  {
   "cell_type": "markdown",
   "id": "8d5271db",
   "metadata": {},
   "source": [
    "> #### 2. In a list of values stored in a variable called spam, how would you assign the value 'hello' as the third value? (Assume [2, 4, 6, 8, 10] are in spam)"
   ]
  },
  {
   "cell_type": "code",
   "execution_count": 4,
   "id": "c0797c1f",
   "metadata": {},
   "outputs": [
    {
     "name": "stdout",
     "output_type": "stream",
     "text": [
      "[2, 4, 'hello', 8, 10]\n"
     ]
    }
   ],
   "source": [
    "spam = [2,4,6,8,10]\n",
    "\n",
    "spam[2] = 'hello'\n",
    "\n",
    "print(spam)"
   ]
  },
  {
   "cell_type": "markdown",
   "id": "0d724d1e",
   "metadata": {},
   "source": [
    "> #### 3. What is the value of spam[int(int('3' * 2) / 11)]? Let's pretend the spam includes the list ['a', 'b', 'c', 'd'] "
   ]
  },
  {
   "cell_type": "code",
   "execution_count": 5,
   "id": "719f26ef",
   "metadata": {},
   "outputs": [
    {
     "data": {
      "text/plain": [
       "'d'"
      ]
     },
     "execution_count": 5,
     "metadata": {},
     "output_type": "execute_result"
    }
   ],
   "source": [
    "spam = ['a','b','c','d']\n",
    "\n",
    "spam[int(int('3' * 2) / 11)]"
   ]
  },
  {
   "cell_type": "code",
   "execution_count": 6,
   "id": "15daccc0",
   "metadata": {},
   "outputs": [
    {
     "data": {
      "text/plain": [
       "'33'"
      ]
     },
     "execution_count": 6,
     "metadata": {},
     "output_type": "execute_result"
    }
   ],
   "source": [
    "'3' * 2"
   ]
  },
  {
   "cell_type": "code",
   "execution_count": 7,
   "id": "8312ff24",
   "metadata": {},
   "outputs": [
    {
     "data": {
      "text/plain": [
       "3.0"
      ]
     },
     "execution_count": 7,
     "metadata": {},
     "output_type": "execute_result"
    }
   ],
   "source": [
    "int('33') / 11"
   ]
  },
  {
   "cell_type": "code",
   "execution_count": 8,
   "id": "d8647002",
   "metadata": {},
   "outputs": [
    {
     "data": {
      "text/plain": [
       "3"
      ]
     },
     "execution_count": 8,
     "metadata": {},
     "output_type": "execute_result"
    }
   ],
   "source": [
    "int (3.0)"
   ]
  },
  {
   "cell_type": "code",
   "execution_count": 9,
   "id": "ce29fa9f",
   "metadata": {},
   "outputs": [
    {
     "data": {
      "text/plain": [
       "'d'"
      ]
     },
     "execution_count": 9,
     "metadata": {},
     "output_type": "execute_result"
    }
   ],
   "source": [
    "spam[3]"
   ]
  },
  {
   "cell_type": "markdown",
   "id": "b198446b",
   "metadata": {},
   "source": [
    "> #### 4. What is the value of spam[-1]? Let's pretend the spam includes the list ['a', 'b', 'c', 'd'] "
   ]
  },
  {
   "cell_type": "code",
   "execution_count": 10,
   "id": "3daff2ce",
   "metadata": {},
   "outputs": [
    {
     "data": {
      "text/plain": [
       "'d'"
      ]
     },
     "execution_count": 10,
     "metadata": {},
     "output_type": "execute_result"
    }
   ],
   "source": [
    "spam[-1]"
   ]
  },
  {
   "cell_type": "markdown",
   "id": "9676f20b",
   "metadata": {},
   "source": [
    "-1 index means the first one from the last"
   ]
  },
  {
   "cell_type": "markdown",
   "id": "19556d44",
   "metadata": {},
   "source": [
    "> #### 5. What is the value of spam[:2]?"
   ]
  },
  {
   "cell_type": "code",
   "execution_count": 11,
   "id": "eba47149",
   "metadata": {},
   "outputs": [
    {
     "data": {
      "text/plain": [
       "['a', 'b']"
      ]
     },
     "execution_count": 11,
     "metadata": {},
     "output_type": "execute_result"
    }
   ],
   "source": [
    "spam[:2]"
   ]
  },
  {
   "cell_type": "markdown",
   "id": "f1f05be1",
   "metadata": {},
   "source": [
    "This represents a slicing operation. Starting from the 0th index uptill 2nd index(EXCLUDING)"
   ]
  },
  {
   "cell_type": "markdown",
   "id": "faa03006",
   "metadata": {},
   "source": [
    "> #### 6. What is the value of bacon.index('cat')? Let's pretend bacon has the list [3.14, 'cat,' 11, 'cat,' True] "
   ]
  },
  {
   "cell_type": "code",
   "execution_count": 14,
   "id": "23425ecd",
   "metadata": {},
   "outputs": [],
   "source": [
    "bacon = [3.14, 'cat',  11, 'cat', True] \n"
   ]
  },
  {
   "cell_type": "code",
   "execution_count": 15,
   "id": "85e4a8ab",
   "metadata": {},
   "outputs": [
    {
     "data": {
      "text/plain": [
       "1"
      ]
     },
     "execution_count": 15,
     "metadata": {},
     "output_type": "execute_result"
    }
   ],
   "source": [
    "bacon.index('cat')"
   ]
  },
  {
   "cell_type": "markdown",
   "id": "1d6d8cdf",
   "metadata": {},
   "source": [
    "index method will return  the index of the first element with the specified value"
   ]
  },
  {
   "cell_type": "markdown",
   "id": "1173e30f",
   "metadata": {},
   "source": [
    "> #### 7. How does bacon.append(99) change the look of the list value in bacon? "
   ]
  },
  {
   "cell_type": "code",
   "execution_count": 16,
   "id": "a5042369",
   "metadata": {},
   "outputs": [],
   "source": [
    "bacon.append(99)"
   ]
  },
  {
   "cell_type": "code",
   "execution_count": 17,
   "id": "956334fc",
   "metadata": {},
   "outputs": [
    {
     "data": {
      "text/plain": [
       "[3.14, 'cat', 11, 'cat', True, 99]"
      ]
     },
     "execution_count": 17,
     "metadata": {},
     "output_type": "execute_result"
    }
   ],
   "source": [
    "bacon"
   ]
  },
  {
   "cell_type": "markdown",
   "id": "04073df9",
   "metadata": {},
   "source": [
    "append method adds an element at the end of the list\n"
   ]
  },
  {
   "cell_type": "markdown",
   "id": "bf1f22f8",
   "metadata": {},
   "source": [
    "> #### 8. How does bacon.remove('cat') change the look of the list in bacon?"
   ]
  },
  {
   "cell_type": "code",
   "execution_count": 18,
   "id": "f3766053",
   "metadata": {},
   "outputs": [
    {
     "data": {
      "text/plain": [
       "[3.14, 11, 'cat', True, 99]"
      ]
     },
     "execution_count": 18,
     "metadata": {},
     "output_type": "execute_result"
    }
   ],
   "source": [
    "bacon.remove('cat')\n",
    "\n",
    "bacon"
   ]
  },
  {
   "cell_type": "markdown",
   "id": "ab514543",
   "metadata": {},
   "source": [
    "remove method removes the first item with the specified value"
   ]
  },
  {
   "cell_type": "markdown",
   "id": "1af784c4",
   "metadata": {},
   "source": [
    "> #### 9. What are the list concatenation and list replication operators?"
   ]
  },
  {
   "cell_type": "code",
   "execution_count": 19,
   "id": "c96c2370",
   "metadata": {},
   "outputs": [
    {
     "name": "stdout",
     "output_type": "stream",
     "text": [
      "[1, 2, 3, 4, 5, 6]\n"
     ]
    }
   ],
   "source": [
    "#List Concatenation operator is + \n",
    "\n",
    "l1 = [1,2,3]\n",
    "l2 = [4,5,6]\n",
    "\n",
    "print(l1 + l2)\n",
    "\n"
   ]
  },
  {
   "cell_type": "code",
   "execution_count": 20,
   "id": "e6145135",
   "metadata": {},
   "outputs": [
    {
     "name": "stdout",
     "output_type": "stream",
     "text": [
      "[1, 2, 3, 4, 5, 6, 1, 2, 3, 4, 5, 6, 1, 2, 3, 4, 5, 6]\n"
     ]
    }
   ],
   "source": [
    "# list Replication operator is *\n",
    "\n",
    "print((l1+l2) *3)"
   ]
  },
  {
   "cell_type": "markdown",
   "id": "89dc3904",
   "metadata": {},
   "source": [
    "> #### 10. What is difference between the list methods append() and insert()?"
   ]
  },
  {
   "cell_type": "code",
   "execution_count": 27,
   "id": "b42c2226",
   "metadata": {},
   "outputs": [
    {
     "name": "stdout",
     "output_type": "stream",
     "text": [
      "[1, 2, 4, 3]\n"
     ]
    }
   ],
   "source": [
    "# append method will always add the specified element at the end of the list >>>> list.append(element)\n",
    "\n",
    "# insert method also takes the index position for the element to inserted >>>> list.insert(index , element)\n",
    "\n",
    "l = [1,2,4]\n",
    "\n",
    "l.append(3)\n",
    "\n",
    "print(l)"
   ]
  },
  {
   "cell_type": "code",
   "execution_count": 29,
   "id": "3a0d5eb2",
   "metadata": {},
   "outputs": [
    {
     "name": "stdout",
     "output_type": "stream",
     "text": [
      "[1, 2, 3, 4]\n"
     ]
    }
   ],
   "source": [
    "l = [1,2,4]\n",
    "\n",
    "l.insert(2,3)\n",
    "\n",
    "print(l)"
   ]
  },
  {
   "cell_type": "markdown",
   "id": "d57f57b1",
   "metadata": {},
   "source": [
    "> #### 11. What are the two methods for removing items from a list?"
   ]
  },
  {
   "cell_type": "code",
   "execution_count": 36,
   "id": "fa1e5f79",
   "metadata": {},
   "outputs": [
    {
     "name": "stdout",
     "output_type": "stream",
     "text": [
      "[1, 3, 3, 4, 5, 2]\n"
     ]
    }
   ],
   "source": [
    "# remove() method will remove the first item with the specified value\n",
    "\n",
    "l = [1,2,3,3,4,5,2]\n",
    "\n",
    "l.remove(2)\n",
    "\n",
    "print(l)"
   ]
  },
  {
   "cell_type": "code",
   "execution_count": 37,
   "id": "a2ef199f",
   "metadata": {},
   "outputs": [
    {
     "name": "stdout",
     "output_type": "stream",
     "text": [
      "[1, 2, 3, 4, 5, 2]\n"
     ]
    }
   ],
   "source": [
    "# pop() method will remove the element at the specified position\n",
    "\n",
    "l = [1,2,3,3,4,5,2]\n",
    "\n",
    "l.pop(2)\n",
    "\n",
    "print(l)"
   ]
  },
  {
   "cell_type": "markdown",
   "id": "0a728749",
   "metadata": {},
   "source": [
    "> #### 12. Describe how list values and string values are identical."
   ]
  },
  {
   "cell_type": "markdown",
   "id": "6c172730",
   "metadata": {},
   "source": [
    "Both lists and strings can be passed to len(), have indexes and slices, be used in for loops, be concatenated or replicated, and be used with the in and not in operators."
   ]
  },
  {
   "cell_type": "code",
   "execution_count": 40,
   "id": "7be68b90",
   "metadata": {},
   "outputs": [
    {
     "name": "stdout",
     "output_type": "stream",
     "text": [
      "List is iterable    1\n",
      "List is iterable    2\n",
      "List is iterable    3\n",
      "List is iterable    4\n",
      "List is iterable    5\n",
      "String is iterable    1\n",
      "String is iterable    2\n",
      "String is iterable    3\n",
      "String is iterable    4\n",
      "String is iterable    5\n"
     ]
    }
   ],
   "source": [
    "# both are iterable\n",
    "\n",
    "l=[1,2,3,4,5]\n",
    "s='12345'\n",
    "\n",
    "for i in l:\n",
    "    print ('List is iterable   ',i)\n",
    "    \n",
    "for i in s:\n",
    "    print ('String is iterable   ',i)\n",
    "\n"
   ]
  },
  {
   "cell_type": "code",
   "execution_count": 41,
   "id": "1e944454",
   "metadata": {},
   "outputs": [
    {
     "name": "stdout",
     "output_type": "stream",
     "text": [
      "2\n",
      "2\n",
      "[3, 4, 5]\n",
      "345\n"
     ]
    }
   ],
   "source": [
    "# indexing and slicing oprations can be done on both\n",
    "\n",
    "l=[1,2,3,4,5]\n",
    "s='12345'\n",
    "\n",
    "print(l[1])\n",
    "\n",
    "print(s[1])\n",
    "\n",
    "print(l[2:])\n",
    "\n",
    "print(s[2:])"
   ]
  },
  {
   "cell_type": "code",
   "execution_count": 42,
   "id": "36af2cfc",
   "metadata": {},
   "outputs": [
    {
     "name": "stdout",
     "output_type": "stream",
     "text": [
      "[1, 2, 3, 4, 5, 1, 2, 3, 4, 5]\n",
      "1234512345\n"
     ]
    }
   ],
   "source": [
    "# replication\n",
    "\n",
    "l=[1,2,3,4,5]\n",
    "s='12345'\n",
    "\n",
    "print(l*2)\n",
    "\n",
    "print(s*2)"
   ]
  },
  {
   "cell_type": "markdown",
   "id": "002e8b68",
   "metadata": {},
   "source": [
    "> #### 13. What's the difference between tuples and lists?"
   ]
  },
  {
   "cell_type": "markdown",
   "id": "2a900a6f",
   "metadata": {},
   "source": [
    "tuples are immutable ; lists are mutable\n",
    "\n",
    "there are other syntactical differences and differences in their respective methods. Noticably tuple have only two \n",
    "built-in methods count() and index()\n"
   ]
  },
  {
   "cell_type": "markdown",
   "id": "fca66dfc",
   "metadata": {},
   "source": [
    "> #### 14. How do you type a tuple value that only contains the integer 42?"
   ]
  },
  {
   "cell_type": "code",
   "execution_count": 49,
   "id": "17bbd8d3",
   "metadata": {},
   "outputs": [
    {
     "data": {
      "text/plain": [
       "tuple"
      ]
     },
     "execution_count": 49,
     "metadata": {},
     "output_type": "execute_result"
    }
   ],
   "source": [
    "tpl = (42,)\n",
    "\n",
    "type (tpl)"
   ]
  },
  {
   "cell_type": "markdown",
   "id": "2b439517",
   "metadata": {},
   "source": [
    "> #### 15. How do you get a list value's tuple form? How do you get a tuple value's list form?"
   ]
  },
  {
   "cell_type": "code",
   "execution_count": 54,
   "id": "fb961397",
   "metadata": {},
   "outputs": [
    {
     "name": "stdout",
     "output_type": "stream",
     "text": [
      "l is a List === [1, 2, 3, 4, 5]\n",
      "l is now converted to Tuple === (1, 2, 3, 4, 5)\n",
      "l is converted back to List === [1, 2, 3, 4, 5]\n"
     ]
    }
   ],
   "source": [
    "l = [1,2,3,4,5]\n",
    "\n",
    "print('l is a List ===' , l)\n",
    "\n",
    "l = tuple(l)\n",
    "\n",
    "print('l is now converted to Tuple ===', tpl)\n",
    "\n",
    "l = list(l)\n",
    "\n",
    "print('l is converted back to List ===' ,  l)"
   ]
  },
  {
   "cell_type": "markdown",
   "id": "fb1d78a6",
   "metadata": {},
   "source": [
    "> #### 16. Variables that \"contain\" list values are not necessarily lists themselves. Instead, what do they contain?"
   ]
  },
  {
   "cell_type": "markdown",
   "id": "d2e0b511",
   "metadata": {},
   "source": [
    "Variables that 'contain' list values will contain references to list values rather than list values themselves. \n",
    " \n",
    "A reference is a name that refers to the specific location in memory of a value.\n",
    "\n",
    "Note that for strings and integer values, variables will contain the string or integer value."
   ]
  },
  {
   "cell_type": "markdown",
   "id": "e8a38bf5",
   "metadata": {},
   "source": [
    "> #### 17. How do you distinguish between copy.copy() and copy.deepcopy()?"
   ]
  },
  {
   "cell_type": "markdown",
   "id": "bc3878d9",
   "metadata": {},
   "source": [
    "In case of deep copy any changes made to a copy of object do not reflect in the original object.\n",
    "\n",
    "Whereas in copy (also called as shallow copy) any changes made to a copy will get reflected in the original as well. "
   ]
  },
  {
   "cell_type": "code",
   "execution_count": null,
   "id": "f39e243a",
   "metadata": {},
   "outputs": [],
   "source": []
  }
 ],
 "metadata": {
  "kernelspec": {
   "display_name": "Python 3",
   "language": "python",
   "name": "python3"
  },
  "language_info": {
   "codemirror_mode": {
    "name": "ipython",
    "version": 3
   },
   "file_extension": ".py",
   "mimetype": "text/x-python",
   "name": "python",
   "nbconvert_exporter": "python",
   "pygments_lexer": "ipython3",
   "version": "3.8.8"
  }
 },
 "nbformat": 4,
 "nbformat_minor": 5
}
