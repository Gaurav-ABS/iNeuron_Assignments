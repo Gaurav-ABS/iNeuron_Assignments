{
 "cells": [
  {
   "cell_type": "markdown",
   "id": "dd2fe55d",
   "metadata": {},
   "source": [
    "# Python Basics_Assignment 8\n",
    "\n",
    "---"
   ]
  },
  {
   "cell_type": "markdown",
   "id": "076f85c6",
   "metadata": {},
   "source": [
    "> #### 1. Is the Python Standard Library included with PyInputPlus?"
   ]
  },
  {
   "cell_type": "markdown",
   "id": "de6889eb",
   "metadata": {},
   "source": [
    "- PyInputPlus is not included in the Python Standard Library, so we have to install it by using pip."
   ]
  },
  {
   "cell_type": "markdown",
   "id": "470f37d7",
   "metadata": {},
   "source": [
    "- PyInputPlus is a Python module used for taking inputs with some additional validation features."
   ]
  },
  {
   "cell_type": "code",
   "execution_count": 1,
   "id": "8a9da15f",
   "metadata": {},
   "outputs": [
    {
     "name": "stdout",
     "output_type": "stream",
     "text": [
      "Requirement already satisfied: pyinputplus in c:\\users\\gaura\\anaconda3\\lib\\site-packages (0.2.12)\n",
      "Requirement already satisfied: pysimplevalidate>=0.2.7 in c:\\users\\gaura\\anaconda3\\lib\\site-packages (from pyinputplus) (0.2.12)\n",
      "Requirement already satisfied: stdiomask>=0.0.3 in c:\\users\\gaura\\anaconda3\\lib\\site-packages (from pyinputplus) (0.0.6)\n"
     ]
    }
   ],
   "source": [
    "! pip install pyinputplus"
   ]
  },
  {
   "cell_type": "markdown",
   "id": "b48e0d8b",
   "metadata": {},
   "source": [
    "- Note that if we download Anaconda then we get many packages in addition to the python standardlibrary. "
   ]
  },
  {
   "cell_type": "markdown",
   "id": "302eb7fc",
   "metadata": {},
   "source": [
    "> #### 2. Why is PyInputPlus commonly imported with import pyinputplus as pypi?"
   ]
  },
  {
   "cell_type": "markdown",
   "id": "487559a0",
   "metadata": {},
   "source": [
    "- pypi is alias of PyInputPlus. The as pyip code in the import statement saves us from typing pyinputplus each time we want to call a PyInputPlus function. <br>Instead we can use the shorter pyip name"
   ]
  },
  {
   "cell_type": "markdown",
   "id": "1052e855",
   "metadata": {},
   "source": [
    "- Similar to when we import numpy as np OR import pandas as pd"
   ]
  },
  {
   "cell_type": "markdown",
   "id": "512eb596",
   "metadata": {},
   "source": [
    "> #### 3. How do you distinguish between inputInt() and inputFloat()?"
   ]
  },
  {
   "cell_type": "code",
   "execution_count": 1,
   "id": "35185d7f",
   "metadata": {},
   "outputs": [
    {
     "name": "stdout",
     "output_type": "stream",
     "text": [
      " Please enter an Integer. You will get three attempts...1.1\n",
      "'1.1' is not an integer.\n",
      " Please enter an Integer. You will get three attempts...1.3\n",
      "'1.3' is not an integer.\n",
      " Please enter an Integer. You will get three attempts...1.4\n",
      "'1.4' is not an integer.\n",
      "You have exceeded the number of attempts\n"
     ]
    }
   ],
   "source": [
    "# inputInt() will accept only an integer and also return an integer \n",
    "\n",
    "import pyinputplus as pyip\n",
    "try:\n",
    "    number = pyip.inputInt(prompt=' Please enter an Integer. You will get three attempts...',limit =3)\n",
    "    print('Your input has been recorded. Input integer is =', number)\n",
    "except Exception as e:\n",
    "    print('You have exceeded the number of attempts')"
   ]
  },
  {
   "cell_type": "code",
   "execution_count": 2,
   "id": "9aa790a2",
   "metadata": {},
   "outputs": [
    {
     "name": "stdout",
     "output_type": "stream",
     "text": [
      " Please enter an Integer. You will get three attempts...4\n",
      "Your input has been recorded. Input integer is = 4\n"
     ]
    }
   ],
   "source": [
    "import pyinputplus as pyip\n",
    "try:\n",
    "    number = pyip.inputInt(prompt=' Please enter an Integer. You will get three attempts...',limit =3)\n",
    "    print('Your input has been recorded. Input integer is =', number)\n",
    "except Exception as e:\n",
    "    print('You have exceeded the number of attempts')\n",
    "    "
   ]
  },
  {
   "cell_type": "code",
   "execution_count": 3,
   "id": "449b40a4",
   "metadata": {},
   "outputs": [
    {
     "name": "stdout",
     "output_type": "stream",
     "text": [
      "Enter a number45\n",
      "45.0\n"
     ]
    }
   ],
   "source": [
    "# inputFloat() will accept both an Integer or Float, however will return a Float \n",
    "\n",
    "flt = pyip.inputFloat(prompt='Enter a number')\n",
    "print (flt)"
   ]
  },
  {
   "cell_type": "code",
   "execution_count": 4,
   "id": "503d3dca",
   "metadata": {},
   "outputs": [
    {
     "name": "stdout",
     "output_type": "stream",
     "text": [
      "Enter a number45.0\n",
      "45.0\n"
     ]
    }
   ],
   "source": [
    "flt = pyip.inputFloat(prompt='Enter a number')\n",
    "print (flt)"
   ]
  },
  {
   "cell_type": "markdown",
   "id": "b8d0ca25",
   "metadata": {},
   "source": [
    "> #### 4. Using PyInputPlus, how do you ensure that the user enters a whole number between 0 and 99?"
   ]
  },
  {
   "cell_type": "code",
   "execution_count": 5,
   "id": "dd257cb3",
   "metadata": {},
   "outputs": [
    {
     "name": "stdout",
     "output_type": "stream",
     "text": [
      "Enter a number between 0 and 99. You may choose the end points as well.......-1\n",
      "Number must be at minimum 0.\n",
      "Enter a number between 0 and 99. You may choose the end points as well.......101\n",
      "Number must be at maximum 99.\n",
      "Enter a number between 0 and 99. You may choose the end points as well.......99\n"
     ]
    }
   ],
   "source": [
    "number = pyip.inputInt(prompt = 'Enter a number between 0 and 99. You may choose the end points as well.......', min=0, max =99, limit =3)"
   ]
  },
  {
   "cell_type": "markdown",
   "id": "4c34b1e7",
   "metadata": {},
   "source": [
    "> #### 5. What is transferred to the keyword arguments allowRegexes and blockRegexes?"
   ]
  },
  {
   "cell_type": "markdown",
   "id": "ef418b4c",
   "metadata": {},
   "source": [
    "- allowRegexes is used to specify additional acceptable input values by means of a regex expression,<br> which otherwise would not have been a valid input.\n"
   ]
  },
  {
   "cell_type": "markdown",
   "id": "46045af7",
   "metadata": {},
   "source": [
    "- blockRegexs is used to block or reject some input values by means of a regex expression,<br> which otherwise would have been accepted as a valid input."
   ]
  },
  {
   "cell_type": "code",
   "execution_count": 6,
   "id": "2c214078",
   "metadata": {},
   "outputs": [
    {
     "name": "stdout",
     "output_type": "stream",
     "text": [
      "-123\n",
      "Number must be at minimum 0.\n",
      "one\n"
     ]
    }
   ],
   "source": [
    "# example : allowRegexes\n",
    "\n",
    "number = pyip.inputNum(allowRegexes=['zero','one'],min=0, max =1, limit =5) \n"
   ]
  },
  {
   "cell_type": "code",
   "execution_count": 10,
   "id": "f2b7c4b3",
   "metadata": {},
   "outputs": [
    {
     "name": "stdout",
     "output_type": "stream",
     "text": [
      "Vowel\n",
      "This response is invalid.\n",
      "vwl\n"
     ]
    }
   ],
   "source": [
    "# example : blockRegexes\n",
    "\n",
    "number = pyip.inputStr(blockRegexes='aeiou', limit =3) "
   ]
  },
  {
   "cell_type": "markdown",
   "id": "44a4148e",
   "metadata": {},
   "source": [
    "> #### 6. If a blank input is entered three times, what does inputStr(limit=3) do?"
   ]
  },
  {
   "cell_type": "code",
   "execution_count": 11,
   "id": "83eaab4b",
   "metadata": {},
   "outputs": [
    {
     "name": "stdout",
     "output_type": "stream",
     "text": [
      "\n",
      "Blank values are not allowed.\n",
      "\n",
      "Blank values are not allowed.\n",
      "\n",
      "Blank values are not allowed.\n"
     ]
    },
    {
     "ename": "RetryLimitException",
     "evalue": "",
     "output_type": "error",
     "traceback": [
      "\u001b[1;31m---------------------------------------------------------------------------\u001b[0m",
      "\u001b[1;31mValidationException\u001b[0m                       Traceback (most recent call last)",
      "\u001b[1;32m~\\anaconda3\\lib\\site-packages\\pyinputplus\\__init__.py\u001b[0m in \u001b[0;36m_genericInput\u001b[1;34m(prompt, default, timeout, limit, applyFunc, validationFunc, postValidateApplyFunc, passwordMask)\u001b[0m\n\u001b[0;32m    166\u001b[0m         \u001b[1;32mtry\u001b[0m\u001b[1;33m:\u001b[0m\u001b[1;33m\u001b[0m\u001b[1;33m\u001b[0m\u001b[0m\n\u001b[1;32m--> 167\u001b[1;33m             possibleNewUserInput = validationFunc(\n\u001b[0m\u001b[0;32m    168\u001b[0m                 \u001b[0muserInput\u001b[0m\u001b[1;33m\u001b[0m\u001b[1;33m\u001b[0m\u001b[0m\n",
      "\u001b[1;32m~\\anaconda3\\lib\\site-packages\\pyinputplus\\__init__.py\u001b[0m in \u001b[0;36m<lambda>\u001b[1;34m(value)\u001b[0m\n\u001b[0;32m    242\u001b[0m \u001b[1;33m\u001b[0m\u001b[0m\n\u001b[1;32m--> 243\u001b[1;33m     validationFunc = lambda value: pysv._prevalidationCheck(\n\u001b[0m\u001b[0;32m    244\u001b[0m         \u001b[0mvalue\u001b[0m\u001b[1;33m,\u001b[0m \u001b[0mblank\u001b[0m\u001b[1;33m=\u001b[0m\u001b[0mblank\u001b[0m\u001b[1;33m,\u001b[0m \u001b[0mstrip\u001b[0m\u001b[1;33m=\u001b[0m\u001b[0mstrip\u001b[0m\u001b[1;33m,\u001b[0m \u001b[0mallowRegexes\u001b[0m\u001b[1;33m=\u001b[0m\u001b[0mallowRegexes\u001b[0m\u001b[1;33m,\u001b[0m \u001b[0mblockRegexes\u001b[0m\u001b[1;33m=\u001b[0m\u001b[0mblockRegexes\u001b[0m\u001b[1;33m,\u001b[0m \u001b[0mexcMsg\u001b[0m\u001b[1;33m=\u001b[0m\u001b[1;32mNone\u001b[0m\u001b[1;33m,\u001b[0m\u001b[1;33m\u001b[0m\u001b[1;33m\u001b[0m\u001b[0m\n",
      "\u001b[1;32m~\\anaconda3\\lib\\site-packages\\pysimplevalidate\\__init__.py\u001b[0m in \u001b[0;36m_prevalidationCheck\u001b[1;34m(value, blank, strip, allowRegexes, blockRegexes, excMsg)\u001b[0m\n\u001b[0;32m    249\u001b[0m         \u001b[1;31m# value is blank but blanks aren't allowed.\u001b[0m\u001b[1;33m\u001b[0m\u001b[1;33m\u001b[0m\u001b[1;33m\u001b[0m\u001b[0m\n\u001b[1;32m--> 250\u001b[1;33m         \u001b[0m_raiseValidationException\u001b[0m\u001b[1;33m(\u001b[0m\u001b[0m_\u001b[0m\u001b[1;33m(\u001b[0m\u001b[1;34m\"Blank values are not allowed.\"\u001b[0m\u001b[1;33m)\u001b[0m\u001b[1;33m,\u001b[0m \u001b[0mexcMsg\u001b[0m\u001b[1;33m)\u001b[0m\u001b[1;33m\u001b[0m\u001b[1;33m\u001b[0m\u001b[0m\n\u001b[0m\u001b[0;32m    251\u001b[0m     \u001b[1;32melif\u001b[0m \u001b[0mblank\u001b[0m \u001b[1;32mand\u001b[0m \u001b[0mvalue\u001b[0m \u001b[1;33m==\u001b[0m \u001b[1;34m\"\"\u001b[0m\u001b[1;33m:\u001b[0m\u001b[1;33m\u001b[0m\u001b[1;33m\u001b[0m\u001b[0m\n",
      "\u001b[1;32m~\\anaconda3\\lib\\site-packages\\pysimplevalidate\\__init__.py\u001b[0m in \u001b[0;36m_raiseValidationException\u001b[1;34m(standardExcMsg, customExcMsg)\u001b[0m\n\u001b[0;32m    221\u001b[0m     \u001b[1;32mif\u001b[0m \u001b[0mcustomExcMsg\u001b[0m \u001b[1;32mis\u001b[0m \u001b[1;32mNone\u001b[0m\u001b[1;33m:\u001b[0m\u001b[1;33m\u001b[0m\u001b[1;33m\u001b[0m\u001b[0m\n\u001b[1;32m--> 222\u001b[1;33m         \u001b[1;32mraise\u001b[0m \u001b[0mValidationException\u001b[0m\u001b[1;33m(\u001b[0m\u001b[0mstr\u001b[0m\u001b[1;33m(\u001b[0m\u001b[0mstandardExcMsg\u001b[0m\u001b[1;33m)\u001b[0m\u001b[1;33m)\u001b[0m\u001b[1;33m\u001b[0m\u001b[1;33m\u001b[0m\u001b[0m\n\u001b[0m\u001b[0;32m    223\u001b[0m     \u001b[1;32melse\u001b[0m\u001b[1;33m:\u001b[0m\u001b[1;33m\u001b[0m\u001b[1;33m\u001b[0m\u001b[0m\n",
      "\u001b[1;31mValidationException\u001b[0m: Blank values are not allowed.",
      "\nDuring handling of the above exception, another exception occurred:\n",
      "\u001b[1;31mRetryLimitException\u001b[0m                       Traceback (most recent call last)",
      "\u001b[1;32m<ipython-input-11-95688fb4caf7>\u001b[0m in \u001b[0;36m<module>\u001b[1;34m\u001b[0m\n\u001b[1;32m----> 1\u001b[1;33m \u001b[0mnumber\u001b[0m \u001b[1;33m=\u001b[0m \u001b[0mpyip\u001b[0m\u001b[1;33m.\u001b[0m\u001b[0minputStr\u001b[0m\u001b[1;33m(\u001b[0m\u001b[0mblockRegexes\u001b[0m\u001b[1;33m=\u001b[0m\u001b[1;34m'aeiou'\u001b[0m\u001b[1;33m,\u001b[0m \u001b[0mlimit\u001b[0m \u001b[1;33m=\u001b[0m\u001b[1;36m3\u001b[0m\u001b[1;33m)\u001b[0m\u001b[1;33m\u001b[0m\u001b[1;33m\u001b[0m\u001b[0m\n\u001b[0m",
      "\u001b[1;32m~\\anaconda3\\lib\\site-packages\\pyinputplus\\__init__.py\u001b[0m in \u001b[0;36minputStr\u001b[1;34m(prompt, default, blank, timeout, limit, strip, allowRegexes, blockRegexes, applyFunc, postValidateApplyFunc)\u001b[0m\n\u001b[0;32m    245\u001b[0m     )[1]\n\u001b[0;32m    246\u001b[0m \u001b[1;33m\u001b[0m\u001b[0m\n\u001b[1;32m--> 247\u001b[1;33m     return _genericInput(\n\u001b[0m\u001b[0;32m    248\u001b[0m         \u001b[0mprompt\u001b[0m\u001b[1;33m=\u001b[0m\u001b[0mprompt\u001b[0m\u001b[1;33m,\u001b[0m\u001b[1;33m\u001b[0m\u001b[1;33m\u001b[0m\u001b[0m\n\u001b[0;32m    249\u001b[0m         \u001b[0mdefault\u001b[0m\u001b[1;33m=\u001b[0m\u001b[0mdefault\u001b[0m\u001b[1;33m,\u001b[0m\u001b[1;33m\u001b[0m\u001b[1;33m\u001b[0m\u001b[0m\n",
      "\u001b[1;32m~\\anaconda3\\lib\\site-packages\\pyinputplus\\__init__.py\u001b[0m in \u001b[0;36m_genericInput\u001b[1;34m(prompt, default, timeout, limit, applyFunc, validationFunc, postValidateApplyFunc, passwordMask)\u001b[0m\n\u001b[0;32m    186\u001b[0m                 \u001b[1;32melse\u001b[0m\u001b[1;33m:\u001b[0m\u001b[1;33m\u001b[0m\u001b[1;33m\u001b[0m\u001b[0m\n\u001b[0;32m    187\u001b[0m                     \u001b[1;31m# If there is no default, then raise the timeout/limit exception.\u001b[0m\u001b[1;33m\u001b[0m\u001b[1;33m\u001b[0m\u001b[1;33m\u001b[0m\u001b[0m\n\u001b[1;32m--> 188\u001b[1;33m                     \u001b[1;32mraise\u001b[0m \u001b[0mlimitOrTimeoutException\u001b[0m\u001b[1;33m\u001b[0m\u001b[1;33m\u001b[0m\u001b[0m\n\u001b[0m\u001b[0;32m    189\u001b[0m             \u001b[1;32melse\u001b[0m\u001b[1;33m:\u001b[0m\u001b[1;33m\u001b[0m\u001b[1;33m\u001b[0m\u001b[0m\n\u001b[0;32m    190\u001b[0m                 \u001b[1;31m# If there was no timeout/limit exceeded, let the user enter input again.\u001b[0m\u001b[1;33m\u001b[0m\u001b[1;33m\u001b[0m\u001b[1;33m\u001b[0m\u001b[0m\n",
      "\u001b[1;31mRetryLimitException\u001b[0m: "
     ]
    }
   ],
   "source": [
    "s = pyip.inputStr(blockRegexes='aeiou', limit =3) "
   ]
  },
  {
   "cell_type": "code",
   "execution_count": 15,
   "id": "830a4045",
   "metadata": {},
   "outputs": [
    {
     "name": "stdout",
     "output_type": "stream",
     "text": [
      "\n",
      "Blank values are not allowed.\n",
      "\n",
      "Blank values are not allowed.\n",
      "\n",
      "Blank values are not allowed.\n",
      "\n",
      "Generated from the except block :::::Blank values are not allowed. \n"
     ]
    }
   ],
   "source": [
    "try:\n",
    "    s = pyip.inputStr(limit =3) \n",
    "except Exception as e:\n",
    "    print('\\nGenerated from the except block :::::Blank values are not allowed.', e)"
   ]
  },
  {
   "cell_type": "markdown",
   "id": "3336605a",
   "metadata": {},
   "source": [
    "> #### 7. If blank input is entered three times, what does inputStr(limit=3, default='hello') do?"
   ]
  },
  {
   "cell_type": "markdown",
   "id": "a93e56d3",
   "metadata": {},
   "source": [
    "- Will return the default value. Will not raise an exception."
   ]
  },
  {
   "cell_type": "code",
   "execution_count": 19,
   "id": "96e44d3a",
   "metadata": {},
   "outputs": [
    {
     "name": "stdout",
     "output_type": "stream",
     "text": [
      "\n",
      "Blank values are not allowed.\n",
      "\n",
      "Blank values are not allowed.\n",
      "\n",
      "Blank values are not allowed.\n"
     ]
    },
    {
     "data": {
      "text/plain": [
       "'tumse na ho payega'"
      ]
     },
     "execution_count": 19,
     "metadata": {},
     "output_type": "execute_result"
    }
   ],
   "source": [
    "s = pyip.inputStr(limit =3, default = 'tumse na ho payega') \n",
    "s"
   ]
  },
  {
   "cell_type": "code",
   "execution_count": null,
   "id": "36c16f53",
   "metadata": {},
   "outputs": [],
   "source": []
  }
 ],
 "metadata": {
  "kernelspec": {
   "display_name": "Python 3",
   "language": "python",
   "name": "python3"
  },
  "language_info": {
   "codemirror_mode": {
    "name": "ipython",
    "version": 3
   },
   "file_extension": ".py",
   "mimetype": "text/x-python",
   "name": "python",
   "nbconvert_exporter": "python",
   "pygments_lexer": "ipython3",
   "version": "3.8.8"
  }
 },
 "nbformat": 4,
 "nbformat_minor": 5
}
