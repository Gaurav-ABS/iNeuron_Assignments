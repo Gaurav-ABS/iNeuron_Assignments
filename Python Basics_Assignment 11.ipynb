{
 "cells": [
  {
   "cell_type": "markdown",
   "id": "2dd08ce9",
   "metadata": {},
   "source": [
    "# Python Basics_Assignment 11\n",
    "\n",
    "\n",
    "---"
   ]
  },
  {
   "cell_type": "markdown",
   "id": "f1f4ab3d",
   "metadata": {},
   "source": [
    "> #### 1. Create an assert statement that throws an AssertionError if the variable spam is a negative integer."
   ]
  },
  {
   "cell_type": "code",
   "execution_count": 3,
   "id": "6026e627",
   "metadata": {},
   "outputs": [
    {
     "name": "stdout",
     "output_type": "stream",
     "text": [
      "Enter an Non Negative Integer7\n",
      "This line will be executed if the Assertion error is not raised, else the execution will stop at the event of an error\n"
     ]
    }
   ],
   "source": [
    "spam = int(input(\"Enter an Non Negative Integer\"))\n",
    "\n",
    "assert spam > 0 , \"Assertion Error raised if the variable spam is a negative integer\"\n",
    "\n",
    "print(\"This line will be executed if the Assertion error is not raised, else the execution will stop at the event of an error\")"
   ]
  },
  {
   "cell_type": "code",
   "execution_count": 4,
   "id": "a9a86bfc",
   "metadata": {},
   "outputs": [
    {
     "name": "stdout",
     "output_type": "stream",
     "text": [
      "Enter an Non Negative Integer-8\n"
     ]
    },
    {
     "ename": "AssertionError",
     "evalue": "Assertion Error raised if the variable spam is a negative integer",
     "output_type": "error",
     "traceback": [
      "\u001b[1;31m---------------------------------------------------------------------------\u001b[0m",
      "\u001b[1;31mAssertionError\u001b[0m                            Traceback (most recent call last)",
      "\u001b[1;32m<ipython-input-4-9a3780de36e8>\u001b[0m in \u001b[0;36m<module>\u001b[1;34m\u001b[0m\n\u001b[0;32m      1\u001b[0m \u001b[0mspam\u001b[0m \u001b[1;33m=\u001b[0m \u001b[0mint\u001b[0m\u001b[1;33m(\u001b[0m\u001b[0minput\u001b[0m\u001b[1;33m(\u001b[0m\u001b[1;34m\"Enter an Non Negative Integer\"\u001b[0m\u001b[1;33m)\u001b[0m\u001b[1;33m)\u001b[0m\u001b[1;33m\u001b[0m\u001b[1;33m\u001b[0m\u001b[0m\n\u001b[0;32m      2\u001b[0m \u001b[1;33m\u001b[0m\u001b[0m\n\u001b[1;32m----> 3\u001b[1;33m \u001b[1;32massert\u001b[0m \u001b[0mspam\u001b[0m \u001b[1;33m>\u001b[0m \u001b[1;36m0\u001b[0m \u001b[1;33m,\u001b[0m \u001b[1;34m\"Assertion Error raised if the variable spam is a negative integer\"\u001b[0m\u001b[1;33m\u001b[0m\u001b[1;33m\u001b[0m\u001b[0m\n\u001b[0m\u001b[0;32m      4\u001b[0m \u001b[1;33m\u001b[0m\u001b[0m\n\u001b[0;32m      5\u001b[0m \u001b[0mprint\u001b[0m\u001b[1;33m(\u001b[0m\u001b[1;34m\"This line will be executed if the Assertion error is not raised, else the execution will stop at the event of an error\"\u001b[0m\u001b[1;33m)\u001b[0m\u001b[1;33m\u001b[0m\u001b[1;33m\u001b[0m\u001b[0m\n",
      "\u001b[1;31mAssertionError\u001b[0m: Assertion Error raised if the variable spam is a negative integer"
     ]
    }
   ],
   "source": [
    "spam = int(input(\"Enter an Non Negative Integer\"))\n",
    "\n",
    "assert spam > 0 , \"Assertion Error raised if the variable spam is a negative integer\"\n",
    "\n",
    "print(\"This line will be executed if the Assertion error is not raised, else the execution will stop at the event of an error\")"
   ]
  },
  {
   "cell_type": "code",
   "execution_count": 7,
   "id": "faa04c1e",
   "metadata": {},
   "outputs": [
    {
     "name": "stdout",
     "output_type": "stream",
     "text": [
      "Enter an Non Negative Integer-5\n",
      "This Assertion Error is coming from except block Assertion Error raised if the variable spam is a negative integer\n"
     ]
    }
   ],
   "source": [
    "spam = int(input(\"Enter an Non Negative Integer\"))\n",
    "\n",
    "try:\n",
    "    assert spam > 0 , \"Assertion Error raised if the variable spam is a negative integer\"\n",
    "    print(\"This line will be executed if the Assertion error is not raised, else the execution will stop at the event of an error\")\n",
    "except Exception as e:\n",
    "    print(\"This Assertion Error is coming from except block\",e)"
   ]
  },
  {
   "cell_type": "markdown",
   "id": "06c2a220",
   "metadata": {},
   "source": [
    "> #### 2. Write an assert statement that triggers an AssertionError if the variables eggs and bacon contain strings that are the same as each other, even if their cases are different (that is, 'hello' and 'hello' are considered the same, and 'goodbye' and 'GOODbye' are also considered the same)."
   ]
  },
  {
   "cell_type": "code",
   "execution_count": 8,
   "id": "7430e514",
   "metadata": {},
   "outputs": [
    {
     "name": "stdout",
     "output_type": "stream",
     "text": [
      "Enter string for variable eggsEGGS\n",
      "Enter string for variable baconEgGs\n",
      "This Assertion Error is coming from except block Assertion error raised\n"
     ]
    }
   ],
   "source": [
    "eggs = input(\"Enter string for variable eggs\")\n",
    "bacon = input(\"Enter string for variable bacon\")\n",
    "\n",
    "try:\n",
    "    assert (eggs.casefold() != bacon.casefold()), \"Assertion error raised\"\n",
    "    print(\"This line will be executed if the Assertion error is not raised, else the execution will stop at the event of an error\")\n",
    "except Exception as e:\n",
    "    print(\"This Assertion Error is coming from except block\",e)\n",
    "    "
   ]
  },
  {
   "cell_type": "markdown",
   "id": "6c6c88f0",
   "metadata": {},
   "source": [
    "> #### 3. Create an assert statement that throws an AssertionError every time."
   ]
  },
  {
   "cell_type": "code",
   "execution_count": 10,
   "id": "35a38e52",
   "metadata": {},
   "outputs": [
    {
     "name": "stdout",
     "output_type": "stream",
     "text": [
      "Anything you type doesnt matter. \n",
      "This Assertion Error is coming from except block This will always raise an assertion error\n"
     ]
    }
   ],
   "source": [
    "input(\"Anything you type doesnt matter.\")\n",
    "try:\n",
    "    assert True==False, \"This will always raise an assertion error\"\n",
    "except Exception as e:\n",
    "    print(\"This Assertion Error is coming from except block\",e)\n"
   ]
  },
  {
   "cell_type": "markdown",
   "id": "ce378f57",
   "metadata": {},
   "source": [
    "> #### 4. What are the two lines that must be present in your software in order to call logging.debug()?"
   ]
  },
  {
   "cell_type": "code",
   "execution_count": 13,
   "id": "8fb16082",
   "metadata": {},
   "outputs": [
    {
     "name": "stdout",
     "output_type": "stream",
     "text": [
      "Anything you type doesnt matter.\n",
      "Check logfile\n"
     ]
    }
   ],
   "source": [
    "import logging\n",
    "logging.basicConfig(level = logging.DEBUG, filename='Python Basics Assignment 11.log', filemode='w', format='%(name)s - %(levelname)s - %(message)s')\n",
    "\n",
    "input(\"Anything you type doesnt matter.\")\n",
    "try:\n",
    "    assert True==False, \"This will always raise an assertion error\"\n",
    "except Exception as e:\n",
    "    print(\"Check logfile\")\n",
    "    logging.debug('This will get logged to Python Basics Assignment 11.log / Check your assert statement.')"
   ]
  },
  {
   "cell_type": "markdown",
   "id": "56e7eda5",
   "metadata": {},
   "source": [
    "> #### 5. What are the two lines that your program must have in order to have logging.debug() send a logging message to a file named programLog.txt?"
   ]
  },
  {
   "cell_type": "code",
   "execution_count": 14,
   "id": "2f9a383d",
   "metadata": {},
   "outputs": [],
   "source": [
    "import logging\n",
    "logging.basicConfig(level = logging.DEBUG, filename='programLog.txt', filemode='w', format='%(name)s - %(levelname)s - %(message)s')"
   ]
  },
  {
   "cell_type": "markdown",
   "id": "befaa588",
   "metadata": {},
   "source": [
    "> #### 6. What are the five levels of logging?"
   ]
  },
  {
   "cell_type": "markdown",
   "id": "1dc604a9",
   "metadata": {},
   "source": [
    "- Debug\n",
    "- Info\n",
    "- Warning\n",
    "- Error\n",
    "- Critical"
   ]
  },
  {
   "cell_type": "markdown",
   "id": "dadad2f5",
   "metadata": {},
   "source": [
    "> #### 7. What line of code would you add to your software to disable all logging messages?"
   ]
  },
  {
   "cell_type": "markdown",
   "id": "b6c8df0b",
   "metadata": {},
   "source": [
    "logging.disable(logging.CRITICAL)"
   ]
  },
  {
   "cell_type": "markdown",
   "id": "d0585325",
   "metadata": {},
   "source": [
    "> #### 8.Why is using logging messages better than using print() to display the same message?"
   ]
  },
  {
   "cell_type": "markdown",
   "id": "f2b8900c",
   "metadata": {},
   "source": [
    "Logging module provies many more functionalities over the print statement. Timestamp / Severity of the message / Writing to a File which can be reviewed later."
   ]
  },
  {
   "cell_type": "markdown",
   "id": "7a70544e",
   "metadata": {},
   "source": [
    "> #### 9. What are the differences between the Step Over, Step In, and Step Out buttons in the debugger?"
   ]
  },
  {
   "cell_type": "markdown",
   "id": "55aa532c",
   "metadata": {},
   "source": [
    "- The Step button will move the debugger into a function call. \n",
    "- The Over button will quickly execute the function call without stepping into it. \n",
    "- The Out button will quickly execute the rest of the code until it steps out of the function it currently is in."
   ]
  },
  {
   "cell_type": "markdown",
   "id": "e5ae31b5",
   "metadata": {},
   "source": [
    "> #### 10.After you click Continue, when will the debugger stop ?"
   ]
  },
  {
   "cell_type": "markdown",
   "id": "97ba612d",
   "metadata": {},
   "source": [
    "After you click Go, the debugger will stop when it has reached the end of the program or a line with a breakpoint."
   ]
  },
  {
   "cell_type": "markdown",
   "id": "ba014cf4",
   "metadata": {},
   "source": [
    "> #### 11. What is the concept of a breakpoint?"
   ]
  },
  {
   "cell_type": "markdown",
   "id": "35947e72",
   "metadata": {},
   "source": [
    "A breakpoint is a setting on a line of code that causes the debugger to pause when the program execution reaches the line."
   ]
  },
  {
   "cell_type": "code",
   "execution_count": null,
   "id": "5b920d57",
   "metadata": {},
   "outputs": [],
   "source": []
  }
 ],
 "metadata": {
  "kernelspec": {
   "display_name": "Python 3",
   "language": "python",
   "name": "python3"
  },
  "language_info": {
   "codemirror_mode": {
    "name": "ipython",
    "version": 3
   },
   "file_extension": ".py",
   "mimetype": "text/x-python",
   "name": "python",
   "nbconvert_exporter": "python",
   "pygments_lexer": "ipython3",
   "version": "3.8.8"
  }
 },
 "nbformat": 4,
 "nbformat_minor": 5
}
