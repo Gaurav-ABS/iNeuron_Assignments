{
 "cells": [
  {
   "cell_type": "markdown",
   "id": "06884d67",
   "metadata": {},
   "source": [
    "# Python Basics_Assignment 7\n",
    "\n",
    "---"
   ]
  },
  {
   "cell_type": "markdown",
   "id": "2d598490",
   "metadata": {},
   "source": [
    "> #### 1. What is the name of the feature responsible for generating Regex objects?"
   ]
  },
  {
   "cell_type": "markdown",
   "id": "73627680",
   "metadata": {},
   "source": [
    "re.compile()method is responsible for generating regexobjects. <br>It compiles a regex pattern provided as a string into a regex pattern object.\n",
    "The object then can be used multiple time as required."
   ]
  },
  {
   "cell_type": "markdown",
   "id": "9b47d146",
   "metadata": {},
   "source": [
    "> #### 2. Why do raw strings often appear in Regex objects?"
   ]
  },
  {
   "cell_type": "markdown",
   "id": "6b9267ad",
   "metadata": {},
   "source": [
    "Python raw string treats backslash (\\) as a literal character. <br>This is useful when we want to have a string that contains backslash and don’t want it to be treated as an escape character."
   ]
  },
  {
   "cell_type": "markdown",
   "id": "3683049b",
   "metadata": {},
   "source": [
    "> #### 3. What is the return value of the search() method?"
   ]
  },
  {
   "cell_type": "markdown",
   "id": "bc5f7e52",
   "metadata": {},
   "source": [
    "If the search method finds a match then it returns a 'match' object with information such as start and end points of the match.<br> If it fails it will return 'None'"
   ]
  },
  {
   "cell_type": "code",
   "execution_count": 1,
   "id": "79dce6db",
   "metadata": {},
   "outputs": [
    {
     "data": {
      "text/plain": [
       "re.compile(r'[a-z]+', re.UNICODE)"
      ]
     },
     "execution_count": 1,
     "metadata": {},
     "output_type": "execute_result"
    }
   ],
   "source": [
    "import re\n",
    "p = re.compile('[a-z]+')\n",
    "p"
   ]
  },
  {
   "cell_type": "code",
   "execution_count": 2,
   "id": "3048129c",
   "metadata": {},
   "outputs": [
    {
     "name": "stdout",
     "output_type": "stream",
     "text": [
      "<re.Match object; span=(2, 5), match='abc'>\n"
     ]
    }
   ],
   "source": [
    "# succesful search\n",
    "\n",
    "s = p.search('12abc def 34 hijk')\n",
    "print(s)"
   ]
  },
  {
   "cell_type": "code",
   "execution_count": 3,
   "id": "0ac04960",
   "metadata": {},
   "outputs": [
    {
     "name": "stdout",
     "output_type": "stream",
     "text": [
      "None\n"
     ]
    }
   ],
   "source": [
    "# failed search\n",
    "\n",
    "s = p.search('12345   45667')\n",
    "print(s)"
   ]
  },
  {
   "cell_type": "markdown",
   "id": "e2599896",
   "metadata": {},
   "source": [
    "> #### 4. From a Match item, how do you get the actual strings that match the pattern?"
   ]
  },
  {
   "cell_type": "code",
   "execution_count": 4,
   "id": "652537b8",
   "metadata": {},
   "outputs": [],
   "source": [
    "m = p.match('abcd1234abcd')"
   ]
  },
  {
   "cell_type": "code",
   "execution_count": 5,
   "id": "afb1ca1d",
   "metadata": {},
   "outputs": [
    {
     "name": "stdout",
     "output_type": "stream",
     "text": [
      "<re.Match object; span=(0, 4), match='abcd'>\n"
     ]
    }
   ],
   "source": [
    "print(m)"
   ]
  },
  {
   "cell_type": "code",
   "execution_count": 6,
   "id": "b68ae574",
   "metadata": {},
   "outputs": [
    {
     "data": {
      "text/plain": [
       "'abcd'"
      ]
     },
     "execution_count": 6,
     "metadata": {},
     "output_type": "execute_result"
    }
   ],
   "source": [
    "# group method returns the string which matched\n",
    "m.group()"
   ]
  },
  {
   "cell_type": "code",
   "execution_count": 7,
   "id": "351317ec",
   "metadata": {},
   "outputs": [
    {
     "data": {
      "text/plain": [
       "str"
      ]
     },
     "execution_count": 7,
     "metadata": {},
     "output_type": "execute_result"
    }
   ],
   "source": [
    "type(m.group())"
   ]
  },
  {
   "cell_type": "code",
   "execution_count": 8,
   "id": "dbea192c",
   "metadata": {},
   "outputs": [
    {
     "data": {
      "text/plain": [
       "0"
      ]
     },
     "execution_count": 8,
     "metadata": {},
     "output_type": "execute_result"
    }
   ],
   "source": [
    "m.start()"
   ]
  },
  {
   "cell_type": "code",
   "execution_count": 9,
   "id": "791bd2ec",
   "metadata": {},
   "outputs": [
    {
     "data": {
      "text/plain": [
       "4"
      ]
     },
     "execution_count": 9,
     "metadata": {},
     "output_type": "execute_result"
    }
   ],
   "source": [
    "m.end()"
   ]
  },
  {
   "cell_type": "code",
   "execution_count": 10,
   "id": "87fac319",
   "metadata": {},
   "outputs": [
    {
     "data": {
      "text/plain": [
       "(0, 4)"
      ]
     },
     "execution_count": 10,
     "metadata": {},
     "output_type": "execute_result"
    }
   ],
   "source": [
    "m.span()"
   ]
  },
  {
   "cell_type": "markdown",
   "id": "6cb1ac2d",
   "metadata": {},
   "source": [
    "> #### 5. In the regex which created from the r'(\\d\\d\\d)-(\\d\\d\\d-\\d\\d\\d\\d)', what does group zero cover? Group 2? Group 1?"
   ]
  },
  {
   "cell_type": "code",
   "execution_count": 130,
   "id": "0a1e06a6",
   "metadata": {},
   "outputs": [
    {
     "name": "stdout",
     "output_type": "stream",
     "text": [
      "group0 000-001-4565\n",
      "group1 000\n",
      "group2 001-4565\n"
     ]
    }
   ],
   "source": [
    "#example\n",
    "\n",
    "targetString = \"000-001-4565 789 999 5768 46578 123456789\"\n",
    "pattern = r'(\\d\\d\\d)-(\\d\\d\\d-\\d\\d\\d\\d)'\n",
    "\n",
    "matches = re.finditer(pattern,targetString)\n",
    "for match in matches:\n",
    "    for index in range(0, match.lastindex + 1):\n",
    "        print('group'+str(index),match.group(index))"
   ]
  },
  {
   "cell_type": "markdown",
   "id": "d6e6343f",
   "metadata": {},
   "source": [
    "> #### 6. In standard expression syntax, parentheses and intervals have distinct meanings. How can you tell a regex that you want it to fit real parentheses and periods?"
   ]
  },
  {
   "cell_type": "code",
   "execution_count": 12,
   "id": "d730a999",
   "metadata": {},
   "outputs": [
    {
     "name": "stdout",
     "output_type": "stream",
     "text": [
      "re.compile('.')\n"
     ]
    }
   ],
   "source": [
    "# in the following pattern the '.' is treated as the meta-character which represents a match with any character \n",
    "# other than the newline character\n",
    "\n",
    "p = re.compile(\".\")\n",
    "print(p)"
   ]
  },
  {
   "cell_type": "code",
   "execution_count": 13,
   "id": "bfd39caa",
   "metadata": {},
   "outputs": [
    {
     "data": {
      "text/plain": [
       "<re.Match object; span=(0, 1), match='a'>"
      ]
     },
     "execution_count": 13,
     "metadata": {},
     "output_type": "execute_result"
    }
   ],
   "source": [
    "# example 1\n",
    "m = p.search('ab\\cd(vndh v).')\n",
    "m"
   ]
  },
  {
   "cell_type": "code",
   "execution_count": 14,
   "id": "363f644b",
   "metadata": {},
   "outputs": [
    {
     "data": {
      "text/plain": [
       "['a', 'b', '\\\\', 'c', 'd', '(', 'v', 'n', 'd', 'h', ' ', 'v', ')', '.']"
      ]
     },
     "execution_count": 14,
     "metadata": {},
     "output_type": "execute_result"
    }
   ],
   "source": [
    "# example 2\n",
    "m1 = re.findall(p,'ab\\cd(vndh v).')\n",
    "m1"
   ]
  },
  {
   "cell_type": "code",
   "execution_count": 15,
   "id": "89db8161",
   "metadata": {},
   "outputs": [
    {
     "data": {
      "text/plain": [
       "re.compile(r'\\.', re.UNICODE)"
      ]
     },
     "execution_count": 15,
     "metadata": {},
     "output_type": "execute_result"
    }
   ],
   "source": [
    "# if we want regex to treat '.' not as a meta-characater but rather as the string '.'\n",
    "# we should pass it along with a preceeding \\\n",
    "\n",
    "p = re.compile(\"\\.\")\n",
    "p"
   ]
  },
  {
   "cell_type": "code",
   "execution_count": 16,
   "id": "93d3b362",
   "metadata": {},
   "outputs": [
    {
     "data": {
      "text/plain": [
       "<re.Match object; span=(13, 14), match='.'>"
      ]
     },
     "execution_count": 16,
     "metadata": {},
     "output_type": "execute_result"
    }
   ],
   "source": [
    "# example \n",
    "m = p.search('ab\\cd(vndh v).')\n",
    "m"
   ]
  },
  {
   "cell_type": "markdown",
   "id": "f06b0903",
   "metadata": {},
   "source": [
    "> #### 7. The findall() method returns a string list or a list of string tuples. What causes it to return one of the two options?"
   ]
  },
  {
   "cell_type": "code",
   "execution_count": 107,
   "id": "5f6f35ae",
   "metadata": {},
   "outputs": [
    {
     "data": {
      "text/plain": [
       "['mobile', '123456789']"
      ]
     },
     "execution_count": 107,
     "metadata": {},
     "output_type": "execute_result"
    }
   ],
   "source": [
    "# when the regex has no groups then a list of strings is returned\n",
    "\n",
    "targetString = ' mobile 123456789  '\n",
    "pattern = r'\\w+'\n",
    "matches = re.findall(pattern,targetString)\n",
    "matches"
   ]
  },
  {
   "cell_type": "code",
   "execution_count": 114,
   "id": "8f191173",
   "metadata": {},
   "outputs": [
    {
     "data": {
      "text/plain": [
       "[('mobile', '123456789')]"
      ]
     },
     "execution_count": 114,
     "metadata": {},
     "output_type": "execute_result"
    }
   ],
   "source": [
    "# when the regex has groups then a list of tuples of strings is returned\n",
    "\n",
    "targetString = 'mobile 123456789'\n",
    "pattern = r'([a-z]+)\\s(\\d+)'\n",
    "matches = re.findall(pattern,targetString)\n",
    "matches"
   ]
  },
  {
   "cell_type": "code",
   "execution_count": 117,
   "id": "02932c38",
   "metadata": {},
   "outputs": [
    {
     "name": "stdout",
     "output_type": "stream",
     "text": [
      "group0 mobile 123456789\n",
      "group1 mobile\n",
      "group2 123456789\n"
     ]
    }
   ],
   "source": [
    "# when the regex has groups then a list of tuples of strings is returned\n",
    "\n",
    "targetString = 'mobile 123456789'\n",
    "pattern = r'([a-z]+)\\s(\\d+)'\n",
    "matches = re.finditer(pattern,targetString)\n",
    "for match in matches:\n",
    "    for index in range(0, match.lastindex + 1):\n",
    "        print('group'+str(index),match.group(index))"
   ]
  },
  {
   "cell_type": "markdown",
   "id": "d961517f",
   "metadata": {},
   "source": [
    "> #### 8. In standard expressions, what does the | character mean?"
   ]
  },
  {
   "cell_type": "markdown",
   "id": "ce73ca22",
   "metadata": {},
   "source": [
    "In regex '|' character means 'either or'"
   ]
  },
  {
   "cell_type": "code",
   "execution_count": 18,
   "id": "ff280196",
   "metadata": {},
   "outputs": [
    {
     "name": "stdout",
     "output_type": "stream",
     "text": [
      "re.compile('abs|gaurav')\n"
     ]
    },
    {
     "data": {
      "text/plain": [
       "['abs', 'gaurav']"
      ]
     },
     "execution_count": 18,
     "metadata": {},
     "output_type": "execute_result"
    }
   ],
   "source": [
    "# example 1: findall()\n",
    "targetString = \"my name is abs gaurav\"\n",
    "pattern = \"abs|gaurav\" #abs or gaurav\n",
    "patternObject = re.compile(pattern)\n",
    "print(patternObject)\n",
    "m = re.findall(pattern,targetString)\n",
    "m"
   ]
  },
  {
   "cell_type": "code",
   "execution_count": 19,
   "id": "75f00b89",
   "metadata": {},
   "outputs": [
    {
     "name": "stdout",
     "output_type": "stream",
     "text": [
      "re.compile('abs|gaurav')\n",
      "<re.Match object; span=(11, 14), match='abs'>\n",
      "re.compile('abs|gaurav')\n",
      "<re.Match object; span=(11, 17), match='gaurav'>\n",
      "re.compile('abs|gaurav')\n",
      "None\n"
     ]
    }
   ],
   "source": [
    "# example 2: search()\n",
    "\n",
    "targetString1 = \"my name is abs\"\n",
    "pattern = \"abs|gaurav\" #abs or gaurav\n",
    "patternObject = re.compile(pattern)\n",
    "print(patternObject)\n",
    "m1 = re.search(pattern,targetString)\n",
    "print(m1)\n",
    "\n",
    "targetString2 = \"my name is gaurav\"\n",
    "pattern = \"abs|gaurav\" #abs or gaurav\n",
    "patternObject = re.compile(pattern)\n",
    "print(patternObject)\n",
    "m2 = re.search(pattern,targetString2)\n",
    "print(m2)\n",
    "\n",
    "targetString3 = \"my name is unknown\"\n",
    "pattern = \"abs|gaurav\" #abs or gaurav\n",
    "patternObject = re.compile(pattern)\n",
    "print(patternObject)\n",
    "m3 = re.search(pattern,targetString3)\n",
    "print(m3)"
   ]
  },
  {
   "cell_type": "markdown",
   "id": "f46da820",
   "metadata": {},
   "source": [
    "> #### 9. In regular expressions, what does the character stand for?"
   ]
  },
  {
   "cell_type": "markdown",
   "id": "9a57b7b8",
   "metadata": {},
   "source": [
    "- '?' stands for zero or one occurence"
   ]
  },
  {
   "cell_type": "markdown",
   "id": "0fca683e",
   "metadata": {},
   "source": [
    "> #### 10.In regular expressions, what is the difference between the + and * characters?"
   ]
  },
  {
   "cell_type": "markdown",
   "id": "213ec08c",
   "metadata": {},
   "source": [
    "- '*' : zero or more occurences\n",
    "- '+' : one or more occurences"
   ]
  },
  {
   "cell_type": "code",
   "execution_count": 20,
   "id": "f8b8c8c2",
   "metadata": {},
   "outputs": [
    {
     "name": "stdout",
     "output_type": "stream",
     "text": [
      "re.compile('abs|gaurav')\n"
     ]
    },
    {
     "data": {
      "text/plain": [
       "['bs', 'abs', 'aabs', 'aaabs']"
      ]
     },
     "execution_count": 20,
     "metadata": {},
     "output_type": "execute_result"
    }
   ],
   "source": [
    "# example : \n",
    "targetString = \"my name is bs abs aabs aaabs\"\n",
    "pattern_Zero_Or_More = \"a*bs\" \n",
    "patternObject = re.compile(pattern)\n",
    "print(patternObject)\n",
    "m = re.findall(pattern_Zero_Or_More,targetString)\n",
    "m"
   ]
  },
  {
   "cell_type": "code",
   "execution_count": 21,
   "id": "1a2f8ed3",
   "metadata": {},
   "outputs": [
    {
     "name": "stdout",
     "output_type": "stream",
     "text": [
      "re.compile('abs|gaurav')\n"
     ]
    },
    {
     "data": {
      "text/plain": [
       "['abs', 'aabs', 'aaabs']"
      ]
     },
     "execution_count": 21,
     "metadata": {},
     "output_type": "execute_result"
    }
   ],
   "source": [
    "# example :\n",
    "targetString = \"my name is bs abs aabs aaabs\"\n",
    "pattern_One_Or_More = \"a+bs\" \n",
    "patternObject = re.compile(pattern)\n",
    "print(patternObject)\n",
    "m = re.findall(pattern_One_Or_More,targetString)\n",
    "m"
   ]
  },
  {
   "cell_type": "markdown",
   "id": "975bfd4a",
   "metadata": {},
   "source": [
    "> #### 11. What is the difference between {4} and {4,5} in regular expression?"
   ]
  },
  {
   "cell_type": "code",
   "execution_count": 22,
   "id": "2686e025",
   "metadata": {},
   "outputs": [
    {
     "name": "stdout",
     "output_type": "stream",
     "text": [
      "re.compile('abs|gaurav')\n"
     ]
    },
    {
     "data": {
      "text/plain": [
       "['aabbbs', 'aabbbs']"
      ]
     },
     "execution_count": 22,
     "metadata": {},
     "output_type": "execute_result"
    }
   ],
   "source": [
    "# example :\n",
    "targetString = \"my name is abs aabs aabbbs aaabbbs\"\n",
    "pattern_Exactly = \"a{2}b{3}s\" \n",
    "patternObject = re.compile(pattern)\n",
    "print(patternObject)\n",
    "m = re.findall(pattern_Exactly,targetString)\n",
    "m"
   ]
  },
  {
   "cell_type": "code",
   "execution_count": 23,
   "id": "9111ef2c",
   "metadata": {},
   "outputs": [
    {
     "name": "stdout",
     "output_type": "stream",
     "text": [
      "re.compile('abs|gaurav')\n"
     ]
    },
    {
     "data": {
      "text/plain": [
       "['aabbbs', 'aaabbbs']"
      ]
     },
     "execution_count": 23,
     "metadata": {},
     "output_type": "execute_result"
    }
   ],
   "source": [
    "# example :\n",
    "targetString = \"my name is abs aabs aabbbs aaabbbs\"\n",
    "pattern_BetweenIncluding = \"a{2,3}b{3}s\" \n",
    "patternObject = re.compile(pattern)\n",
    "print(patternObject)\n",
    "m = re.findall(pattern_BetweenIncluding,targetString)\n",
    "m"
   ]
  },
  {
   "cell_type": "code",
   "execution_count": 24,
   "id": "980a7005",
   "metadata": {},
   "outputs": [
    {
     "name": "stdout",
     "output_type": "stream",
     "text": [
      "re.compile('abs|gaurav')\n"
     ]
    },
    {
     "data": {
      "text/plain": [
       "['abs', 'aabs', 'aabbbs', 'aaabbbs']"
      ]
     },
     "execution_count": 24,
     "metadata": {},
     "output_type": "execute_result"
    }
   ],
   "source": [
    "# example :\n",
    "targetString = \"my name is abs aabs aabbbs aaabbbs\"\n",
    "pattern_BetweenIncluding = \"a{1,3}b{1,3}s\" \n",
    "patternObject = re.compile(pattern)\n",
    "print(patternObject)\n",
    "m = re.findall(pattern_BetweenIncluding,targetString)\n",
    "m"
   ]
  },
  {
   "cell_type": "markdown",
   "id": "264a2847",
   "metadata": {},
   "source": [
    "> #### 12.What do you mean by the \\d, \\w, and \\s shorthand character classes signify in regular expressions?"
   ]
  },
  {
   "cell_type": "markdown",
   "id": "adba5606",
   "metadata": {},
   "source": [
    "- \\d: numbers from 0 -9"
   ]
  },
  {
   "cell_type": "code",
   "execution_count": 25,
   "id": "02852653",
   "metadata": {},
   "outputs": [
    {
     "name": "stdout",
     "output_type": "stream",
     "text": [
      "re.compile('\\\\d')\n"
     ]
    },
    {
     "data": {
      "text/plain": [
       "['1', '1', '1', '1', '1', '3', '1', '2', '3', '4', '5', '6']"
      ]
     },
     "execution_count": 25,
     "metadata": {},
     "output_type": "execute_result"
    }
   ],
   "source": [
    "# example :\n",
    "targetString = \"th1s 1s a str1ng conta1n1ng numb3rs 1 23 456 \"\n",
    "pattern = \"\\d\" \n",
    "patternObject = re.compile(pattern)\n",
    "print(patternObject)\n",
    "m = re.findall(pattern,targetString)\n",
    "m\n"
   ]
  },
  {
   "cell_type": "code",
   "execution_count": 26,
   "id": "52a630d2",
   "metadata": {},
   "outputs": [
    {
     "name": "stdout",
     "output_type": "stream",
     "text": [
      "re.compile('\\\\d+')\n"
     ]
    },
    {
     "data": {
      "text/plain": [
       "['1', '1', '1', '1', '1', '3', '1', '23', '456']"
      ]
     },
     "execution_count": 26,
     "metadata": {},
     "output_type": "execute_result"
    }
   ],
   "source": [
    "# example :\n",
    "targetString = \"th1s 1s a str1ng conta1n1ng numb3rs 1 23 456 \"\n",
    "pattern = \"\\d+\" \n",
    "patternObject = re.compile(pattern)\n",
    "print(patternObject)\n",
    "m = re.findall(pattern,targetString)\n",
    "m\n"
   ]
  },
  {
   "cell_type": "markdown",
   "id": "a4afe4c6",
   "metadata": {},
   "source": [
    "- \\w:characters from a to Z, digits from 0-9, and the underscore _ character"
   ]
  },
  {
   "cell_type": "code",
   "execution_count": 27,
   "id": "44b34d36",
   "metadata": {},
   "outputs": [
    {
     "name": "stdout",
     "output_type": "stream",
     "text": [
      "re.compile('\\\\w+')\n"
     ]
    },
    {
     "data": {
      "text/plain": [
       "['th1s', '1s', 'a', 'str1ng', 'conta1n1ng', 'numb3rs', '1', '23', '456']"
      ]
     },
     "execution_count": 27,
     "metadata": {},
     "output_type": "execute_result"
    }
   ],
   "source": [
    "# example :\n",
    "targetString = \"th1s 1s a str1ng conta1n1ng numb3rs 1 23 456 \"\n",
    "pattern = \"\\w+\" \n",
    "patternObject = re.compile(pattern)\n",
    "print(patternObject)\n",
    "m = re.findall(pattern,targetString)\n",
    "m"
   ]
  },
  {
   "cell_type": "markdown",
   "id": "225d7466",
   "metadata": {},
   "source": [
    "- \\s: white space character"
   ]
  },
  {
   "cell_type": "code",
   "execution_count": 28,
   "id": "2b95f2f5",
   "metadata": {},
   "outputs": [
    {
     "name": "stdout",
     "output_type": "stream",
     "text": [
      "re.compile('\\\\s+')\n"
     ]
    },
    {
     "data": {
      "text/plain": [
       "['th1s', '1s', 'a', 'str1ng', 'conta1n1ng', 'numb3rs', '1', '23', '456', '']"
      ]
     },
     "execution_count": 28,
     "metadata": {},
     "output_type": "execute_result"
    }
   ],
   "source": [
    "# example :\n",
    "targetString = \"th1s 1s a str1ng     conta1n1ng  numb3rs 1 23      456 \"\n",
    "pattern = \"\\s+\" \n",
    "patternObject = re.compile(pattern)\n",
    "print(patternObject)\n",
    "m = re.split(pattern,targetString)\n",
    "m"
   ]
  },
  {
   "cell_type": "markdown",
   "id": "31ff2e5b",
   "metadata": {},
   "source": [
    "> #### 13. What do means by \\D, \\W, and \\S shorthand character classes signify in regular expressions?"
   ]
  },
  {
   "cell_type": "markdown",
   "id": "c1491fcd",
   "metadata": {},
   "source": [
    "- \\D : Returns a match where the string DOES NOT contain numbers from 0 -9\n",
    "- \\W : Returns a match where the string DOES NOT contain characters from a to Z, digits from 0-9, and the underscore _ character\n",
    "- \\S : Returns a match where the string DOES NOT contain a white space character"
   ]
  },
  {
   "cell_type": "markdown",
   "id": "80e3fd7e",
   "metadata": {},
   "source": [
    "> #### 14. What is the difference between .\\*? and .\\*"
   ]
  },
  {
   "cell_type": "markdown",
   "id": "72fd8802",
   "metadata": {},
   "source": [
    "- .\\* performs a greeady match \n",
    "- .\\*? performs a non greedy match"
   ]
  },
  {
   "cell_type": "code",
   "execution_count": 29,
   "id": "94af58ac",
   "metadata": {},
   "outputs": [
    {
     "name": "stdout",
     "output_type": "stream",
     "text": [
      "\"abs\"  and also   \"gaurav\"\n",
      "\"abs\"\n",
      "\"gaurav\"\n"
     ]
    }
   ],
   "source": [
    "# example\n",
    "\n",
    "targetString = '   my name is \"abs\"  and also   \"gaurav\"   '\n",
    "\n",
    "pattern_Greedy = '\".+\"'\n",
    "matches = re.finditer(pattern_Greedy,targetString)\n",
    "for match in matches:\n",
    "    print(match.group())\n",
    "\n",
    "    \n",
    "pattern_NonGreedy = '\".+?\"'\n",
    "matches = re.finditer(pattern_NonGreedy,targetString)\n",
    "for match in matches:\n",
    "    print(match.group())"
   ]
  },
  {
   "cell_type": "code",
   "execution_count": 30,
   "id": "2eb1830b",
   "metadata": {},
   "outputs": [
    {
     "name": "stdout",
     "output_type": "stream",
     "text": [
      "<re.Match object; span=(14, 40), match='\"abs\"  and also   \"gaurav\"'>\n",
      "<re.Match object; span=(14, 19), match='\"abs\"'>\n"
     ]
    }
   ],
   "source": [
    "# example\n",
    "\n",
    "targetString = '   my name is \"abs\"  and also   \"gaurav\"   '\n",
    "\n",
    "pattern_Greedy = '\".+\"'\n",
    "matches = re.search(pattern_Greedy,targetString)\n",
    "print(matches)\n",
    "\n",
    "    \n",
    "pattern_NonGreedy = '\".+?\"'\n",
    "matches = re.search(pattern_NonGreedy,targetString)\n",
    "print(matches)"
   ]
  },
  {
   "cell_type": "code",
   "execution_count": 31,
   "id": "3b0a8cc6",
   "metadata": {},
   "outputs": [
    {
     "name": "stdout",
     "output_type": "stream",
     "text": [
      "['\"abs\"  and also   \"gaurav\"']\n",
      "['\"abs\"', '\"gaurav\"']\n"
     ]
    }
   ],
   "source": [
    "# example\n",
    "\n",
    "targetString = '   my name is \"abs\"  and also   \"gaurav\"   '\n",
    "\n",
    "pattern_Greedy = '\".+\"'\n",
    "matches = re.findall(pattern_Greedy,targetString)\n",
    "print(matches)\n",
    "\n",
    "    \n",
    "pattern_NonGreedy = '\".+?\"'\n",
    "matches = re.findall(pattern_NonGreedy,targetString)\n",
    "print(matches)"
   ]
  },
  {
   "cell_type": "markdown",
   "id": "6c7b8373",
   "metadata": {},
   "source": [
    "> #### 15. What is the syntax for matching both numbers and lowercase letters with a character class?"
   ]
  },
  {
   "cell_type": "code",
   "execution_count": 32,
   "id": "0555ef4b",
   "metadata": {},
   "outputs": [
    {
     "name": "stdout",
     "output_type": "stream",
     "text": [
      "['1', '2', '3', 'a', 'b', 's', '4', '5', '6', '7', '8', '9']\n",
      "['123', 'abs', '456', '789']\n"
     ]
    }
   ],
   "source": [
    "targetString = \" 123 abs 456 GAURAV 789\"\n",
    "\n",
    "#pattern 1\n",
    "pattern1 = r'[a-z0-9]'\n",
    "match1 = re.findall(pattern1 , targetString)\n",
    "print(match1)\n",
    "\n",
    "#pattern 2\n",
    "pattern2 = r'[a-z0-9]+'\n",
    "match2 = re.findall(pattern2 , targetString)\n",
    "print(match2)"
   ]
  },
  {
   "cell_type": "markdown",
   "id": "3cb17b79",
   "metadata": {},
   "source": [
    "> #### 16. What is the procedure for making a normal expression in regax case insensitive?"
   ]
  },
  {
   "cell_type": "code",
   "execution_count": 33,
   "id": "c965810f",
   "metadata": {},
   "outputs": [
    {
     "name": "stdout",
     "output_type": "stream",
     "text": [
      "['1', '2', '3', 'a', 'b', 's', '4', '5', '6', 'G', 'A', 'U', 'R', 'A', 'V', '7', '8', '9']\n",
      "['123', 'abs', '456', 'GAURAV', '789']\n"
     ]
    }
   ],
   "source": [
    "targetString = \" 123 abs 456 GAURAV 789\"\n",
    "\n",
    "#pattern 1\n",
    "pattern1 = r'[a-z0-9]'\n",
    "patternObject1 = re.compile(pattern1,re.IGNORECASE)\n",
    "match1 = re.findall(patternObject1 , targetString)\n",
    "print(match1)\n",
    "\n",
    "#pattern 2\n",
    "pattern2 = r'[a-z0-9]+'\n",
    "patternObject2 = re.compile(pattern2,re.I)\n",
    "match2 = re.findall(patternObject2 , targetString)\n",
    "print(match2)"
   ]
  },
  {
   "cell_type": "markdown",
   "id": "a350d26e",
   "metadata": {},
   "source": [
    "> #### 17. What does the . character normally match? What does it match if re.DOTALL is passed as 2nd argument in re.compile()?"
   ]
  },
  {
   "cell_type": "markdown",
   "id": "80bd0808",
   "metadata": {},
   "source": [
    "The . character normally matches any character except the newline character. <br>If re.DOTALL is passed as the second argument to re.compile(), then the dot will also match newline characters."
   ]
  },
  {
   "cell_type": "markdown",
   "id": "d327170d",
   "metadata": {},
   "source": [
    "> #### 18. If numReg = re.compile(r'\\d+'), what will numRegex.sub('X', '11 drummers, 10 pipers, five rings, 4 hen') return?"
   ]
  },
  {
   "cell_type": "code",
   "execution_count": 34,
   "id": "0dc375d8",
   "metadata": {},
   "outputs": [
    {
     "name": "stdout",
     "output_type": "stream",
     "text": [
      "<class 're.Pattern'>\n",
      "X drummers, X pipers, five rings, X hen\n",
      "<class 'str'>\n"
     ]
    }
   ],
   "source": [
    "#example :\n",
    "numReg = re.compile(r'\\d+')\n",
    "print(type(numReg))\n",
    "\n",
    "result = numReg.sub('X', '11 drummers, 10 pipers, five rings, 4 hen')\n",
    "print(result)\n",
    "print(type(result))"
   ]
  },
  {
   "cell_type": "code",
   "execution_count": 35,
   "id": "4940a2d3",
   "metadata": {},
   "outputs": [
    {
     "name": "stdout",
     "output_type": "stream",
     "text": [
      "<class 're.Pattern'>\n",
      "XX drummers, XX pipers, five rings, X hen\n",
      "<class 'str'>\n"
     ]
    }
   ],
   "source": [
    "#example :\n",
    "numReg = re.compile(r'\\d')\n",
    "print(type(numReg))\n",
    "\n",
    "result = numReg.sub('X', '11 drummers, 10 pipers, five rings, 4 hen')\n",
    "print(result)\n",
    "print(type(result))"
   ]
  },
  {
   "cell_type": "markdown",
   "id": "b20b83c2",
   "metadata": {},
   "source": [
    "> #### 19. What does passing re.VERBOSE as the 2nd argument to re.compile() allow to do?"
   ]
  },
  {
   "cell_type": "markdown",
   "id": "128c21b6",
   "metadata": {},
   "source": [
    "re.VERBOSE allows to pass white space and comments in the string provided to re.compile \n",
    "<br>this helps in better reading of the regex"
   ]
  },
  {
   "cell_type": "markdown",
   "id": "8dce6f30",
   "metadata": {},
   "source": [
    "> #### 20. How would you write a regex that match a number with comma for every three digits? "
   ]
  },
  {
   "cell_type": "code",
   "execution_count": 87,
   "id": "a121df66",
   "metadata": {},
   "outputs": [
    {
     "name": "stdout",
     "output_type": "stream",
     "text": [
      "<re.Match object; span=(17, 26), match='6,368,745'>\n"
     ]
    }
   ],
   "source": [
    "targetString = 'this is a number 6,368,745'\n",
    "pattern = r'\\b\\d{1,3},\\d{3},\\d{3}'\n",
    "m = re.search(pattern,targetString)\n",
    "print(m)"
   ]
  },
  {
   "cell_type": "code",
   "execution_count": 86,
   "id": "5f0ede29",
   "metadata": {},
   "outputs": [
    {
     "name": "stdout",
     "output_type": "stream",
     "text": [
      "<re.Match object; span=(17, 26), match='6,368,745'>\n"
     ]
    }
   ],
   "source": [
    "targetString = 'this is a number 6,368,745'\n",
    "pattern2 = r'(\\b\\d{1,3}(,\\d{3})*)'\n",
    "m = re.search(pattern2,targetString)\n",
    "print(m)"
   ]
  },
  {
   "cell_type": "markdown",
   "id": "2e50f9d9",
   "metadata": {},
   "source": [
    "> #### 21. How would you write a regex that matches the full name of someone whose last name is Watanabe? You can assume that the first name that comes before it will always be one word that begins with a capital letter. "
   ]
  },
  {
   "cell_type": "code",
   "execution_count": 51,
   "id": "c2ee6b77",
   "metadata": {},
   "outputs": [
    {
     "name": "stdout",
     "output_type": "stream",
     "text": [
      "<re.Match object; span=(13, 28), match='Gaurav Watanabe'>\n"
     ]
    }
   ],
   "source": [
    "targetString1 =' the name is Gaurav Watanabe'\n",
    "pattern = r'\\b[A-Z]\\w+\\sWatanabe'\n",
    "m = re.search(pattern,targetString1)\n",
    "print(m)"
   ]
  },
  {
   "cell_type": "code",
   "execution_count": 52,
   "id": "d10cfffa",
   "metadata": {},
   "outputs": [
    {
     "name": "stdout",
     "output_type": "stream",
     "text": [
      "None\n"
     ]
    }
   ],
   "source": [
    "targetString2 =' the name is gaurav Watanabe'\n",
    "pattern = r'\\b[A-Z]\\w+\\sWatanabe'\n",
    "m = re.search(pattern,targetString2)\n",
    "print(m)"
   ]
  },
  {
   "cell_type": "code",
   "execution_count": 53,
   "id": "6480f6f8",
   "metadata": {},
   "outputs": [
    {
     "name": "stdout",
     "output_type": "stream",
     "text": [
      "None\n"
     ]
    }
   ],
   "source": [
    "targetString3 =' the name is Mr. Watanabe'\n",
    "pattern = r'\\b[A-Z]\\w+\\sWatanabe'\n",
    "m = re.search(pattern,targetString3)\n",
    "print(m)"
   ]
  },
  {
   "cell_type": "code",
   "execution_count": 55,
   "id": "a5f5a774",
   "metadata": {},
   "outputs": [
    {
     "name": "stdout",
     "output_type": "stream",
     "text": [
      "['Gaurav Watanabe', 'James Watanabe']\n"
     ]
    }
   ],
   "source": [
    "targetString4 =' the name is Gaurav Watanabe or James Watanabe but not bond Watanabe and surely not Mr. Watanabe'\n",
    "pattern = r'\\b[A-Z]\\w+\\sWatanabe'\n",
    "m = re.findall(pattern,targetString4)\n",
    "print(m)"
   ]
  },
  {
   "cell_type": "markdown",
   "id": "8b5b081e",
   "metadata": {},
   "source": [
    "> #### 22. How would you write a regex that matches a sentence where the first word is either Alice, Bob, or Carol; the second word is either eats, pets, or throws; the third word is apples, cats, or baseballs; and the sentence ends with a period? This regex should be case-insensitive. "
   ]
  },
  {
   "cell_type": "code",
   "execution_count": 97,
   "id": "3aa38877",
   "metadata": {},
   "outputs": [
    {
     "name": "stdout",
     "output_type": "stream",
     "text": [
      "<re.Match object; span=(0, 18), match='Alice eats apples.'>\n"
     ]
    }
   ],
   "source": [
    "pattern = (r'(Alice|Bob|Carol)\\s(eats|pets|throws)\\s(apples|cats|baseballs)\\.')\n",
    "pObj = re.compile(pattern,re.I)\n",
    "\n",
    "targetString = 'Alice eats apples.'\n",
    "m = re.search(pObj,targetString)\n",
    "print(m)"
   ]
  },
  {
   "cell_type": "code",
   "execution_count": 98,
   "id": "00583dda",
   "metadata": {},
   "outputs": [
    {
     "name": "stdout",
     "output_type": "stream",
     "text": [
      "None\n"
     ]
    }
   ],
   "source": [
    "targetString ='RoboCop eats apples.'\n",
    "m = re.search(pObj,targetString)\n",
    "print(m)"
   ]
  },
  {
   "cell_type": "code",
   "execution_count": null,
   "id": "bc0db305",
   "metadata": {},
   "outputs": [],
   "source": []
  }
 ],
 "metadata": {
  "kernelspec": {
   "display_name": "Python 3",
   "language": "python",
   "name": "python3"
  },
  "language_info": {
   "codemirror_mode": {
    "name": "ipython",
    "version": 3
   },
   "file_extension": ".py",
   "mimetype": "text/x-python",
   "name": "python",
   "nbconvert_exporter": "python",
   "pygments_lexer": "ipython3",
   "version": "3.8.8"
  }
 },
 "nbformat": 4,
 "nbformat_minor": 5
}
