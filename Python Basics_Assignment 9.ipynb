{
 "cells": [
  {
   "cell_type": "markdown",
   "id": "70b655e6",
   "metadata": {},
   "source": [
    "# Python Basics_Assignment 9\n",
    "\n",
    "---"
   ]
  },
  {
   "cell_type": "markdown",
   "id": "2087a2a7",
   "metadata": {},
   "source": [
    "> #### 1. To what does a relative path refer?"
   ]
  },
  {
   "cell_type": "markdown",
   "id": "3b4457fc",
   "metadata": {},
   "source": [
    "- Relative path refers to location with respect to the present directory.\n"
   ]
  },
  {
   "cell_type": "code",
   "execution_count": 1,
   "id": "4aff6894",
   "metadata": {},
   "outputs": [
    {
     "data": {
      "text/plain": [
       "'C:\\\\Users\\\\gaura\\\\FSDS iNeuron'"
      ]
     },
     "execution_count": 1,
     "metadata": {},
     "output_type": "execute_result"
    }
   ],
   "source": [
    "pwd"
   ]
  },
  {
   "cell_type": "code",
   "execution_count": 2,
   "id": "fc8f603e",
   "metadata": {},
   "outputs": [
    {
     "ename": "SyntaxError",
     "evalue": "invalid syntax (<ipython-input-2-55354ad06c4a>, line 2)",
     "output_type": "error",
     "traceback": [
      "\u001b[1;36m  File \u001b[1;32m\"<ipython-input-2-55354ad06c4a>\"\u001b[1;36m, line \u001b[1;32m2\u001b[0m\n\u001b[1;33m    cd ..\u001b[0m\n\u001b[1;37m        ^\u001b[0m\n\u001b[1;31mSyntaxError\u001b[0m\u001b[1;31m:\u001b[0m invalid syntax\n"
     ]
    }
   ],
   "source": [
    "# double dot (..) is used to move up the hierarchy Relative to the present directory\n",
    "cd .."
   ]
  },
  {
   "cell_type": "markdown",
   "id": "53b0aa9c",
   "metadata": {},
   "source": [
    "> #### 2. What does an absolute path start with your operating system?"
   ]
  },
  {
   "cell_type": "markdown",
   "id": "006a9244",
   "metadata": {},
   "source": [
    "- Absolute path starts from the root of the operating system, containing all the directories uptill the target directly\n",
    "- In my Windows system it startsfrom C drive\n",
    "- C:\\"
   ]
  },
  {
   "cell_type": "markdown",
   "id": "2714f22e",
   "metadata": {},
   "source": [
    "> #### 3. What do the functions os.getcwd() and os.chdir() do?"
   ]
  },
  {
   "cell_type": "code",
   "execution_count": null,
   "id": "aa4f65cd",
   "metadata": {},
   "outputs": [],
   "source": [
    "# getting the current working directory\n",
    "\n",
    "import os\n",
    "os.getcwd()"
   ]
  },
  {
   "cell_type": "code",
   "execution_count": null,
   "id": "52cec663",
   "metadata": {},
   "outputs": [],
   "source": [
    "# changing the directory\n",
    "\n",
    "os.chdir('C:\\\\Users\\\\gaura\\\\FSDS iNeuron')\n",
    "os.getcwd()"
   ]
  },
  {
   "cell_type": "markdown",
   "id": "7a1551b9",
   "metadata": {},
   "source": [
    "> #### 4. What are the . and .. folders?"
   ]
  },
  {
   "cell_type": "markdown",
   "id": "d09c79a1",
   "metadata": {},
   "source": [
    "- The dot (.) folder is the current folder.\n",
    "- The double dot(..) folder is the parent folder."
   ]
  },
  {
   "cell_type": "markdown",
   "id": "08fd5349",
   "metadata": {},
   "source": [
    "> #### 5. In C:\\bacon\\eggs\\spam.txt, which part is the dir name, and which part is the base name?"
   ]
  },
  {
   "cell_type": "markdown",
   "id": "c38e1685",
   "metadata": {},
   "source": [
    "- Dir name is C:\\bacon\\eggs\\\n",
    "- Base name is spam.txt"
   ]
  },
  {
   "cell_type": "markdown",
   "id": "108b7343",
   "metadata": {},
   "source": [
    "> #### 6. What are the three “mode” arguments that can be passed to the open() function?"
   ]
  },
  {
   "cell_type": "code",
   "execution_count": 3,
   "id": "028ffe22",
   "metadata": {},
   "outputs": [],
   "source": [
    "# 'w' specifies WRITE mode\n",
    "# It will create the file if not already existing\n",
    "# It will not give error if the file is alredy existing. It erases the original file and creates a new file.\n",
    "\n",
    "f = open('demofile.txt' , 'w')\n",
    "f.write('this is the first comment added to the file')\n",
    "f.close()\n"
   ]
  },
  {
   "cell_type": "code",
   "execution_count": 4,
   "id": "845cd93f",
   "metadata": {},
   "outputs": [
    {
     "name": "stdout",
     "output_type": "stream",
     "text": [
      " Volume in drive C is OS\n",
      " Volume Serial Number is DC23-D123\n",
      "\n",
      " Directory of C:\\Users\\gaura\\FSDS iNeuron\n",
      "\n",
      "20-07-2022  23:14    <DIR>          .\n",
      "20-07-2022  23:14    <DIR>          ..\n",
      "20-07-2022  20:08    <DIR>          .ipynb_checkpoints\n",
      "13-06-2022  17:41    <DIR>          Challenges\n",
      "19-07-2022  21:21    <DIR>          Class Resources\n",
      "20-07-2022  23:15                43 demofile.txt\n",
      "30-05-2022  21:22            15,642 Python Basics_Assignment 1.ipynb\n",
      "04-06-2022  02:55            18,986 Python Basics_Assignment 2.ipynb\n",
      "12-06-2022  02:09            14,470 Python Basics_Assignment 3.ipynb\n",
      "14-06-2022  04:50            16,874 Python Basics_Assignment 4.ipynb\n",
      "16-06-2022  04:27            12,420 Python Basics_Assignment 5.ipynb\n",
      "06-07-2022  00:31            13,148 Python Basics_Assignment 6.ipynb\n",
      "17-07-2022  18:44            33,252 Python Basics_Assignment 7.ipynb\n",
      "20-07-2022  19:33            16,726 Python Basics_Assignment 8.ipynb\n",
      "20-07-2022  23:14             9,432 Python Basics_Assignment 9.ipynb\n",
      "02-07-2022  01:35           256,379 Rough Work.ipynb\n",
      "19-07-2022  22:00    <DIR>          Statistics with Python\n",
      "30-06-2022  02:46    <DIR>          Tasks\n",
      "01-07-2022  21:08               407 weatherData.csv\n",
      "01-07-2022  21:28               426 weatherData2.csv\n",
      "              13 File(s)        408,205 bytes\n",
      "               7 Dir(s)  269,447,933,952 bytes free\n"
     ]
    }
   ],
   "source": [
    "ls"
   ]
  },
  {
   "cell_type": "code",
   "execution_count": 5,
   "id": "c3dab3d1",
   "metadata": {},
   "outputs": [],
   "source": [
    "# 'a' specifies append mode\n",
    "# It can be used to add comments to the end of the file.\n",
    "# Note that using write mode will over-write the original contents of the file\n",
    "\n",
    "f =  open('demofile.txt', 'a')\n",
    "f.write('\\n append will add this after the end of the original content of the file')\n",
    "f.close()"
   ]
  },
  {
   "cell_type": "code",
   "execution_count": 6,
   "id": "2c99a13f",
   "metadata": {},
   "outputs": [
    {
     "name": "stdout",
     "output_type": "stream",
     "text": [
      "<built-in method read of _io.TextIOWrapper object at 0x00000205A13F4C70>\n",
      "this is the first comment added to the file\n",
      " append will add this after the end of the original content of the file\n"
     ]
    }
   ],
   "source": [
    "# 'r' specifies the read mode\n",
    "# It can be used to read a file. \n",
    "# It will give error if the file is not already existing\n",
    "\n",
    "f = open('demofile.txt' , 'r')\n",
    "print(f.read)\n",
    "print(f.read())\n",
    "f.close()\n"
   ]
  },
  {
   "cell_type": "markdown",
   "id": "40eaef42",
   "metadata": {},
   "source": [
    "> #### 7. What happens if an existing file is opened in write mode?"
   ]
  },
  {
   "cell_type": "markdown",
   "id": "5969e78b",
   "metadata": {},
   "source": [
    "- Write mode will erase a previously existing file and create new one."
   ]
  },
  {
   "cell_type": "markdown",
   "id": "53226f31",
   "metadata": {},
   "source": [
    "> #### 8. How do you tell the difference between read() and readlines()?"
   ]
  },
  {
   "cell_type": "markdown",
   "id": "cd7f8d71",
   "metadata": {},
   "source": [
    "- read() method will return the file’s entire contents as a single string value. \n",
    "- readlines() method returns a list of strings, where each string is a line from the file’s contents."
   ]
  },
  {
   "cell_type": "code",
   "execution_count": 7,
   "id": "fd92d793",
   "metadata": {},
   "outputs": [
    {
     "name": "stdout",
     "output_type": "stream",
     "text": [
      "<built-in method read of _io.TextIOWrapper object at 0x00000205A13F4D40>\n",
      "this is the first comment added to the file\n",
      " append will add this after the end of the original content of the file\n"
     ]
    },
    {
     "data": {
      "text/plain": [
       "<function TextIOWrapper.close()>"
      ]
     },
     "execution_count": 7,
     "metadata": {},
     "output_type": "execute_result"
    }
   ],
   "source": [
    "f = open('demofile.txt' , 'r')\n",
    "print(f.read)\n",
    "print(f.read())\n",
    "f.close\n",
    "\n"
   ]
  },
  {
   "cell_type": "code",
   "execution_count": 11,
   "id": "37b762e0",
   "metadata": {},
   "outputs": [
    {
     "name": "stdout",
     "output_type": "stream",
     "text": [
      "['this is the first comment added to the file\\n', ' append will add this after the end of the original content of the file']\n"
     ]
    }
   ],
   "source": [
    "f = open('demofile.txt' , 'r')\n",
    "print(f.readlines())\n",
    "f.close()"
   ]
  },
  {
   "cell_type": "markdown",
   "id": "bc77320a",
   "metadata": {},
   "source": [
    "> #### 9. What data structure does a shelf value resemble?"
   ]
  },
  {
   "cell_type": "markdown",
   "id": "464f82cb",
   "metadata": {},
   "source": [
    "- 'Shelf'  resembles the data type 'dictionary' ."
   ]
  },
  {
   "cell_type": "code",
   "execution_count": null,
   "id": "4354b317",
   "metadata": {},
   "outputs": [],
   "source": []
  }
 ],
 "metadata": {
  "kernelspec": {
   "display_name": "Python 3",
   "language": "python",
   "name": "python3"
  },
  "language_info": {
   "codemirror_mode": {
    "name": "ipython",
    "version": 3
   },
   "file_extension": ".py",
   "mimetype": "text/x-python",
   "name": "python",
   "nbconvert_exporter": "python",
   "pygments_lexer": "ipython3",
   "version": "3.8.8"
  }
 },
 "nbformat": 4,
 "nbformat_minor": 5
}
