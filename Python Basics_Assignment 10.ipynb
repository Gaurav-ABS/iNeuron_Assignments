{
 "cells": [
  {
   "cell_type": "markdown",
   "id": "d59c577b",
   "metadata": {},
   "source": [
    "# Python Basics_Assignment 10\n",
    "\n",
    "\n",
    "---"
   ]
  },
  {
   "cell_type": "markdown",
   "id": "d54b7dfd",
   "metadata": {},
   "source": [
    "> #### 1. How do you distinguish between shutil.copy() and shutil.copytree()?"
   ]
  },
  {
   "cell_type": "markdown",
   "id": "3058bb51",
   "metadata": {},
   "source": [
    "- These are functions provided in the shutil module of the Python Standard Library. <br>This module provides functions which deal with File copying and removal.\n",
    "\n",
    "- shutil.copy() will copy specified file to the specified destination.\n",
    "\n",
    "- shutil.copytree() will copy the entire directory tree, that is to say it will copy entire folder with all its contents."
   ]
  },
  {
   "cell_type": "markdown",
   "id": "c56aa4de",
   "metadata": {},
   "source": [
    "> #### 2. What function is used to rename files?"
   ]
  },
  {
   "cell_type": "markdown",
   "id": "17790c6d",
   "metadata": {},
   "source": [
    "- os.rename() can be used to rename a file."
   ]
  },
  {
   "cell_type": "markdown",
   "id": "b775cdff",
   "metadata": {},
   "source": [
    "> #### 3. What is the difference between the delete functions in the send2trash and shutil modules?"
   ]
  },
  {
   "cell_type": "markdown",
   "id": "77bd4ec0",
   "metadata": {},
   "source": [
    "- send2trash function will move a file or folder to the recycle bin. <br>\n",
    "- shutil function will permanently delete files and folders."
   ]
  },
  {
   "cell_type": "markdown",
   "id": "49265f3c",
   "metadata": {},
   "source": [
    "> #### 4. ZipFile objects have a close() method just like File objects’ close() method. What ZipFile method is equivalent to File objects’ open() method?"
   ]
  },
  {
   "cell_type": "markdown",
   "id": "13116353",
   "metadata": {},
   "source": [
    "- The zipfile.ZipFile() function is equivalent to the open() function.\n",
    "- The first argument is the filename, and the second argument is the mode to open the ZIP file in (read, write, or append)."
   ]
  },
  {
   "cell_type": "markdown",
   "id": "074cb55c",
   "metadata": {},
   "source": [
    "> #### 5. Create a programme that searches a folder tree for files with a certain file extension (such as .pdf or .jpg). Copy these files from whatever location they are in to a new folder."
   ]
  },
  {
   "cell_type": "code",
   "execution_count": 50,
   "id": "d50f4a1e",
   "metadata": {},
   "outputs": [
    {
     "name": "stdout",
     "output_type": "stream",
     "text": [
      "#########   subfolder   ######### C:\\Users\\gaura\\FSDS iNeuron\\.ipynb_checkpoints\n",
      "### files ### ['Python Basics_Assignment 1-checkpoint.ipynb', 'Python Basics_Assignment 10-checkpoint.ipynb', 'Python Basics_Assignment 2-checkpoint.ipynb', 'Python Basics_Assignment 3-checkpoint.ipynb', 'Python Basics_Assignment 4-checkpoint.ipynb', 'Python Basics_Assignment 5-checkpoint.ipynb', 'Python Basics_Assignment 6-checkpoint.ipynb', 'Python Basics_Assignment 7-checkpoint.ipynb', 'Python Basics_Assignment 8-checkpoint.ipynb', 'Python Basics_Assignment 9-checkpoint.ipynb', 'Rough Work-checkpoint.ipynb']\n",
      "_____________________________________________________________________________\n",
      "#########   subfolder   ######### C:\\Users\\gaura\\FSDS iNeuron\\Challenges\n",
      "### files ### []\n",
      "_____________________________________________________________________________\n",
      "#########   subfolder   ######### C:\\Users\\gaura\\FSDS iNeuron\\Class Resources\\.ipynb_checkpoints\n",
      "### files ### ['Untitled-checkpoint.ipynb']\n",
      "_____________________________________________________________________________\n",
      "#########   subfolder   ######### C:\\Users\\gaura\\FSDS iNeuron\\Class Resources\\19.2.MySQL\\.ipynb_checkpoints\n",
      "### files ### ['19.2.MySQL-checkpoint.ipynb', 'Untitled-checkpoint.ipynb']\n",
      "_____________________________________________________________________________\n",
      "#########   subfolder   ######### C:\\Users\\gaura\\FSDS iNeuron\\Class Resources\\19.2.MySQL\\imgs\n",
      "### files ### ['mysql1.jpg', 'mysql10.jpg', 'mysql11.jpg', 'mysql12.jpg', 'mysql13.jpg', 'mysql14.jpg', 'mysql15.jpg', 'mysql16.jpg', 'mysql17.jpg', 'mysql18.jpg', 'mysql19.jpg', 'mysql2.jpg', 'mysql20.jpg', 'mysql21.jpg', 'mysql22.jpg', 'mysql23.jpg', 'mysql24.jpg', 'mysql25.jpg', 'mysql26.jpg', 'mysql27.jpg', 'mysql28.jpg', 'mysql29.jpg', 'mysql3.jpg', 'mysql30.jpg', 'mysql31.jpg', 'mysql32.jpg', 'mysql33.jpg', 'mysql4.jpg', 'mysql5.jpg', 'mysql6.jpg', 'mysql7.jpg', 'mysql8.jpg', 'mysql9.jpg']\n",
      "_____________________________________________________________________________\n",
      "File moved mysql1 .jpg\n",
      "File moved mysql10 .jpg\n",
      "File moved mysql11 .jpg\n",
      "File moved mysql12 .jpg\n",
      "File moved mysql13 .jpg\n",
      "File moved mysql14 .jpg\n",
      "File moved mysql15 .jpg\n",
      "File moved mysql16 .jpg\n",
      "File moved mysql17 .jpg\n",
      "File moved mysql18 .jpg\n",
      "File moved mysql19 .jpg\n",
      "File moved mysql2 .jpg\n",
      "File moved mysql20 .jpg\n",
      "File moved mysql21 .jpg\n",
      "File moved mysql22 .jpg\n",
      "File moved mysql23 .jpg\n",
      "File moved mysql24 .jpg\n",
      "File moved mysql25 .jpg\n",
      "File moved mysql26 .jpg\n",
      "File moved mysql27 .jpg\n",
      "File moved mysql28 .jpg\n",
      "File moved mysql29 .jpg\n",
      "File moved mysql3 .jpg\n",
      "File moved mysql30 .jpg\n",
      "File moved mysql31 .jpg\n",
      "File moved mysql32 .jpg\n",
      "File moved mysql33 .jpg\n",
      "File moved mysql4 .jpg\n",
      "File moved mysql5 .jpg\n",
      "File moved mysql6 .jpg\n",
      "File moved mysql7 .jpg\n",
      "File moved mysql8 .jpg\n",
      "File moved mysql9 .jpg\n",
      "#########   subfolder   ######### C:\\Users\\gaura\\FSDS iNeuron\\Class Resources\\19.2.MySQL\\Imp files\\.ipynb_checkpoints\n",
      "### files ### ['Untitled-checkpoint.ipynb']\n",
      "_____________________________________________________________________________\n",
      "#########   subfolder   ######### C:\\Users\\gaura\\FSDS iNeuron\\Class Resources\\19.2.MySQL\\Imp files\n",
      "### files ### ['checkListOfDatabases.py', 'connectToMysql.py', 'createDatabase.py', 'createTableInDB.py', 'deleteFromTable.py', 'glass.data', 'groupByOrderBy.py', 'insertFromFile.py', 'insertToTable.py', 'selectFromDb.py', 'selectIntoDataframe.py', 'Untitled.ipynb', 'updateTable.py']\n",
      "_____________________________________________________________________________\n",
      "#########   subfolder   ######### C:\\Users\\gaura\\FSDS iNeuron\\Class Resources\\19.2.MySQL\n",
      "### files ### ['19.2.MySQL.ipynb', 'glass.data', 'mydata.csv', 'MYSQL application.docx', 'MYSQL application.pdf', 'Untitled.ipynb']\n",
      "_____________________________________________________________________________\n",
      "#########   subfolder   ######### C:\\Users\\gaura\\FSDS iNeuron\\Class Resources\n",
      "### files ### ['Untitled.ipynb']\n",
      "_____________________________________________________________________________\n",
      "#########   subfolder   ######### C:\\Users\\gaura\\FSDS iNeuron\\Statistics with Python\\.ipynb_checkpoints\n",
      "### files ### ['Recorded lecture Krish Naik Stats with Python-checkpoint.ipynb']\n",
      "_____________________________________________________________________________\n",
      "#########   subfolder   ######### C:\\Users\\gaura\\FSDS iNeuron\\Statistics with Python\n",
      "### files ### ['Recorded lecture Krish Naik Stats with Python.ipynb']\n",
      "_____________________________________________________________________________\n",
      "#########   subfolder   ######### C:\\Users\\gaura\\FSDS iNeuron\\Tasks\\.ipynb_checkpoints\n",
      "### files ### []\n",
      "_____________________________________________________________________________\n",
      "#########   subfolder   ######### C:\\Users\\gaura\\FSDS iNeuron\\Tasks\n",
      "### files ### []\n",
      "_____________________________________________________________________________\n",
      "#########   subfolder   ######### C:\\Users\\gaura\\FSDS iNeuron\n",
      "### files ### ['demofile.txt', 'Python Basics_Assignment 1.ipynb', 'Python Basics_Assignment 10.ipynb', 'Python Basics_Assignment 2.ipynb', 'Python Basics_Assignment 3.ipynb', 'Python Basics_Assignment 4.ipynb', 'Python Basics_Assignment 5.ipynb', 'Python Basics_Assignment 6.ipynb', 'Python Basics_Assignment 7.ipynb', 'Python Basics_Assignment 8.ipynb', 'Python Basics_Assignment 9.ipynb', 'Rough Work.ipynb', 'weatherData.csv', 'weatherData2.csv']\n",
      "_____________________________________________________________________________\n"
     ]
    }
   ],
   "source": [
    "import os\n",
    "import shutil\n",
    "\n",
    "currFolder = os.getcwd() # this is the current folder and the os.walk fuction will traverse in this folder\n",
    "\n",
    "destFolder = os.path.abspath('Challenges') # the subfolder Challenges already exists inside the current folder\n",
    "# all the files which match our criteria will be copied to this subfolder\n",
    "\n",
    "for subfolder,subsubfolder, files in os.walk(currFolder, topdown=False):\n",
    "    print(\"#########   subfolder   #########\", subfolder)\n",
    "    print(\"### files ###\",files)\n",
    "    \n",
    "    print('_____________________________________________________________________________')\n",
    "    for file in files:\n",
    "        name,extension = os.path.splitext(file)\n",
    "        if extension == '.jpg':\n",
    "            fileAbsPath = subfolder + os.path.sep + file\n",
    "            print(\"File moved\", name,extension )\n",
    "            shutil.copy(fileAbsPath, destFolder)\n",
    "\n",
    "        \n",
    "\n"
   ]
  },
  {
   "cell_type": "code",
   "execution_count": null,
   "id": "a2a414c9",
   "metadata": {},
   "outputs": [],
   "source": []
  }
 ],
 "metadata": {
  "kernelspec": {
   "display_name": "Python 3",
   "language": "python",
   "name": "python3"
  },
  "language_info": {
   "codemirror_mode": {
    "name": "ipython",
    "version": 3
   },
   "file_extension": ".py",
   "mimetype": "text/x-python",
   "name": "python",
   "nbconvert_exporter": "python",
   "pygments_lexer": "ipython3",
   "version": "3.8.8"
  }
 },
 "nbformat": 4,
 "nbformat_minor": 5
}
